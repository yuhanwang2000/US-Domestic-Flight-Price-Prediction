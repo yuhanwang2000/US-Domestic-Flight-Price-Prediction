{
 "cells": [
  {
   "cell_type": "markdown",
   "id": "e3171661-8582-4bf9-be09-fdd006c594b5",
   "metadata": {
    "id": "e3171661-8582-4bf9-be09-fdd006c594b5"
   },
   "source": [
    "# Identify the key factors and predict flight prices\n",
    "\n",
    "Contributers: Chuheng(Kevin) Yu, Fu-Yi Pao, Jinisha Kande, Shu Wang, Yuhan Wang"
   ]
  },
  {
   "cell_type": "markdown",
   "id": "kHIaBczHeFCs",
   "metadata": {
    "id": "kHIaBczHeFCs"
   },
   "source": [
    "***\n",
    "# Table of Content\n",
    "\n"
   ]
  },
  {
   "cell_type": "markdown",
   "id": "gwTVWGVsgLt5",
   "metadata": {
    "colab_type": "toc",
    "id": "gwTVWGVsgLt5"
   },
   "source": [
    ">[Identify the key factors and predict flight prices](#scrollTo=e3171661-8582-4bf9-be09-fdd006c594b5)\n",
    "\n",
    ">[Table of Content](#scrollTo=kHIaBczHeFCs)\n",
    "\n",
    ">[Problem definition:](#scrollTo=cb460793-2b3f-4d43-bf81-714c836610be)\n",
    "\n",
    ">[Data Description:](#scrollTo=cb460793-2b3f-4d43-bf81-714c836610be)\n",
    "\n",
    ">[Source:](#scrollTo=cb460793-2b3f-4d43-bf81-714c836610be)\n",
    "\n",
    ">[Motivation:](#scrollTo=cb460793-2b3f-4d43-bf81-714c836610be)\n",
    "\n",
    ">[Data Preparation](#scrollTo=8a06b8c3-eecc-4fc7-b6ba-97bdfa0d9ca2)\n",
    "\n",
    ">[EDA](#scrollTo=ff82cc87-4aa6-4303-9db9-28b45007eff8)\n",
    "\n",
    ">>[A. Travel Route](#scrollTo=ff82cc87-4aa6-4303-9db9-28b45007eff8)\n",
    "\n",
    ">>[B. Travel Time](#scrollTo=ae892128-5ba4-419f-8362-bc9e67b1695f)\n",
    "\n",
    ">>>[Flight per day](#scrollTo=8c70993d-cfee-47be-98ae-76c0c959967f)\n",
    "\n",
    ">>>[Weekend vs. weekday](#scrollTo=70f45a88-d024-40ee-bc8a-d41590371e94)\n",
    "\n",
    ">>[C. Travel Experience](#scrollTo=f4f06f15-8be8-41fa-b7dd-22dc0f08e114)\n",
    "\n",
    ">>>[Visualization of top 10 airlines](#scrollTo=50f5d312-7947-4e21-98c9-dd9b9ca63846)\n",
    "\n",
    ">>>[Refund situation for different airlines](#scrollTo=96936999-d3b4-4f9e-8e1d-34686cdfef22)\n",
    "\n",
    ">>>[Refund situation for basic economy airline and non-basic economy airline](#scrollTo=f64e22eb-975a-43fc-b958-4540b6199f16)\n",
    "\n",
    ">>[D. Price](#scrollTo=672c146d-2d93-46ab-9904-aaaed9a38e57)\n",
    "\n",
    ">[Brief Summary & Future Studies](#scrollTo=THDzxWz-kNkQ)\n",
    "\n"
   ]
  },
  {
   "cell_type": "markdown",
   "id": "cb460793-2b3f-4d43-bf81-714c836610be",
   "metadata": {
    "id": "cb460793-2b3f-4d43-bf81-714c836610be"
   },
   "source": [
    "***\n",
    "# Problem definition: \n",
    "Our goal is to identify the key factors of flight prices between 04/16/2022 and 10/05/2022  to generate predictions for our customer.\n",
    "\n",
    "To achieve this, we will use PySpark for EDA and regression modeling on a large-scale dataset of flight prices and related variables such as departure date, arrival date, airline, etc. Our primary goal will be to identify the factors that have the greatest impact on flight prices during this time period, and to see the strength of these relationships using statistical models.\n",
    "\n",
    "Afterwards, we shall apply machine learning and regression techniques to develop insights for airfare costs relying on crucial components. These forecasts will offer customers perspectives concerning the ideal timing and price point when they should purchase plane tickets so as to make their expenses more efficient. By doing this, it is our intention to acquire a deeper knowledge of what prompts changes in flight fares.\n",
    "\n",
    "# Data Description:\n",
    "\n",
    "This dataset contains information on purchasable flight tickets available on Expedia between 2022-04-16 and 2022-10-05, to/from the following airports: ATL, DFW, DEN, ORD, LAX, CLT, MIA, JFK, EWR, SFO, DTW, BOS, PHL, LGA, IAD, OAK. The dataset is available in compressed CSV and Apache Parquet formats.\n",
    "\n",
    "The dataset consists of 28 columns with the following information:\n",
    "\n",
    "| Attribute | Defnition |\n",
    "| ----------- | ----------- |\n",
    "|legId | An identifier for the flight.|\n",
    "|searchDate| The date (YYYY-MM-DD) on which this entry was taken from Expedia.|\n",
    "|flightDate| The date (YYYY-MM-DD) of the flight.|\n",
    "|startingAirport| Three-character IATA airport code for the initial location.|\n",
    "|destinationAirport| Three-character IATA airport code for the arrival location.|\n",
    "|fareBasisCode| The fare basis code.|\n",
    "|travelDuration| The travel duration in hours and minutes.|\n",
    "|elapsedDays| The number of elapsed days (usually 0).|\n",
    "|isBasicEconomy| Boolean for whether the ticket is for basic economy.|\n",
    "|isRefundable| Boolean for whether the ticket is refundable.|\n",
    "|isNonStop| Boolean for whether the flight is non-stop.|\n",
    "|baseFare| The price of the ticket (in USD).|\n",
    "|totalFare| The price of the ticket (in USD) including taxes and other fees.|\n",
    "|seatsRemaining| Integer for the number of seats remaining.|\n",
    "|totalTravelDistance| The total travel distance in miles. This data is |sometimes missing.|\n",
    "|segmentsDepartureTimeEpochSeconds| String containing the departure time (Unix time) for each leg of the trip. The entries for each of the legs are separated by '||'.|\n",
    "|segmentsDepartureTimeRaw| String containing the departure time (ISO 8601 format: YYYY-MM-DDThh:mm:ss.000±[hh]:00) for each leg of the trip. The entries for each of the legs are separated by '||'.|\n",
    "|segmentsArrivalTimeEpochSeconds| String containing the arrival time (Unix time) for each leg of the trip. The entries for each of the legs are separated by '||'.|\n",
    "|segmentsArrivalTimeRaw| String containing the arrival time (ISO 8601 format: YYYY-MM-DDThh:mm:ss.000±[hh]:00) for each leg of the trip. The entries for each of the legs are separated by '||'.|\n",
    "|segmentsArrivalAirportCode| String containing the IATA airport code for the arrival location for each leg of the trip. The entries for each of the legs are separated by '||'.|\n",
    "|segmentsDepartureAirportCode| String containing the IATA airport code for the departure location for each leg of the trip. The entries for each of the legs are separated by '||'.|\n",
    "|segmentsAirlineName| String containing the name of the airline that services each leg of the trip. The entries for each of the legs are separated by '||'.|\n",
    "|segmentsAirlineCode| String containing the two-letter airline code that services each leg of the trip. The entries for each of the legs are separated by '||'.|\n",
    "|segmentsEquipmentDescription| String containing the type of airplane used for each leg of the trip (e.g. \"Airbus A321\" or \"Boeing 737-800\"). The entries for each of the legs are separated by '||'.|\n",
    "|segmentsDurationInSeconds| String containing the duration of the flight (in seconds) for each leg of the trip. The entries for each of the legs are separated by '||'.|\n",
    "|segmentsDistance| String containing the distance traveled (in miles) for each leg of the trip. The entries for each of the legs are separated by '||'.|\n",
    "|segmentsCabinCode| String containing the cabin for each leg of the trip (e.g. \"coach\"). The entries for each of the legs are separated by '||'.|\n",
    "\n",
    "\n",
    "\n",
    "# Source: \n",
    "Expedia\n",
    "Link: https://www.kaggle.com/datasets/dilwong/flightprices\n",
    "# Motivation: \n",
    "As international students who travel a lot between our home country and US, it is crucial for us to find the best value for flight tickets during the summer vacation period.\n"
   ]
  },
  {
   "cell_type": "markdown",
   "id": "8a06b8c3-eecc-4fc7-b6ba-97bdfa0d9ca2",
   "metadata": {
    "id": "8a06b8c3-eecc-4fc7-b6ba-97bdfa0d9ca2"
   },
   "source": [
    "***\n",
    "# Data Preparation"
   ]
  },
  {
   "cell_type": "code",
   "execution_count": null,
   "id": "b4389fb2-04cf-4c65-8d0b-4ca4a8cbe37c",
   "metadata": {
    "id": "b4389fb2-04cf-4c65-8d0b-4ca4a8cbe37c"
   },
   "outputs": [],
   "source": [
    "from pyspark.sql import functions as F\n",
    "from pyspark.sql.functions import col, count\n",
    "import matplotlib.pyplot as plt\n",
    "import seaborn as sns\n",
    "import pandas as pd\n",
    "from pyspark.sql.types import (StructType, \n",
    "                               StructField, \n",
    "                               DateType, \n",
    "                               BooleanType,\n",
    "                               DoubleType,\n",
    "                               IntegerType,\n",
    "                               StringType,\n",
    "                               TimestampType)\n",
    "\n",
    "flight_schema = StructType([StructField(\"legId\", StringType(), True),\n",
    "                            StructField(\"searchDate\", StringType(), True),\n",
    "                            StructField(\"flightDate\", DateType(), True),\n",
    "                            StructField(\"startingAirport\", StringType(), True),\n",
    "                            StructField(\"destinationAirport\", StringType(), True),\n",
    "                            StructField(\"fareBasisCode\", StringType(), True),\n",
    "                            StructField(\"travelDuration\", StringType(), True),\n",
    "                            StructField(\"elapsedDays\", IntegerType(), True ),\n",
    "                            StructField(\"isBasicEconomy\", BooleanType(), True),\n",
    "                            StructField(\"isRefundable\", BooleanType(), True),\n",
    "                            StructField(\"isNonStop\", BooleanType(), True),\n",
    "                            StructField(\"baseFare\", DoubleType(), True),\n",
    "                            StructField(\"totalFare\", DoubleType(), True),\n",
    "                            StructField(\"seatsRemaining\", IntegerType(), True),\n",
    "                            StructField(\"totalTravelDistance\", IntegerType(), True),\n",
    "                            StructField(\"segmentsDepartureTimeEpochSeconds\", IntegerType(), True),\n",
    "                            StructField(\"segmentsDepartureTimeRaw\", TimestampType(), True),\n",
    "                            StructField(\"segmentsArrivalTimeEpochSeconds\", IntegerType(), True),\n",
    "                            StructField(\"segmentsArrivalTimeRaw\", TimestampType(), True),\n",
    "                            StructField(\"segmentsArrivalAirportCode\", StringType(), True),\n",
    "                            StructField(\"segmentsDepartureAirportCode\", StringType(), True),\n",
    "                            StructField(\"segmentsAirlineName\", StringType(), True),\n",
    "                            StructField(\"segmentsAirlineCode\", StringType(), True),\n",
    "                            StructField(\"segmentsEquipmentDescription\", StringType(), True),\n",
    "                            StructField(\"segmentsDurationInSeconds\", IntegerType(), True),\n",
    "                            StructField(\"segmentsDistance\", IntegerType(), True ),\n",
    "                            StructField(\"segmentsCabinCode\", StringType(), True)\n",
    "                            ])"
   ]
  },
  {
   "cell_type": "code",
   "execution_count": null,
   "id": "415413dc-7fe6-4502-9100-0f33401631e8",
   "metadata": {
    "id": "415413dc-7fe6-4502-9100-0f33401631e8"
   },
   "outputs": [],
   "source": [
    "data_path = \"gs://is843-teamproject/itineraries.csv\""
   ]
  },
  {
   "cell_type": "code",
   "execution_count": null,
   "id": "119b5668-7b33-4a6c-9061-0bbca9b84a21",
   "metadata": {
    "id": "119b5668-7b33-4a6c-9061-0bbca9b84a21"
   },
   "outputs": [],
   "source": [
    " data = spark.read.format(\"csv\")\\\n",
    "  .option(\"header\", \"true\")\\\n",
    "  .schema(flight_schema)\\\n",
    "  .load(data_path)"
   ]
  },
  {
   "cell_type": "code",
   "execution_count": null,
   "id": "792d7f74-3c40-4024-806f-55a21c46708d",
   "metadata": {
    "id": "792d7f74-3c40-4024-806f-55a21c46708d",
    "outputId": "12c017b4-1125-4ca4-807b-d72b2261226e"
   },
   "outputs": [
    {
     "name": "stdout",
     "output_type": "stream",
     "text": [
      "root\n",
      " |-- legId: string (nullable = true)\n",
      " |-- searchDate: string (nullable = true)\n",
      " |-- flightDate: date (nullable = true)\n",
      " |-- startingAirport: string (nullable = true)\n",
      " |-- destinationAirport: string (nullable = true)\n",
      " |-- fareBasisCode: string (nullable = true)\n",
      " |-- travelDuration: string (nullable = true)\n",
      " |-- elapsedDays: integer (nullable = true)\n",
      " |-- isBasicEconomy: boolean (nullable = true)\n",
      " |-- isRefundable: boolean (nullable = true)\n",
      " |-- isNonStop: boolean (nullable = true)\n",
      " |-- baseFare: double (nullable = true)\n",
      " |-- totalFare: double (nullable = true)\n",
      " |-- seatsRemaining: integer (nullable = true)\n",
      " |-- totalTravelDistance: integer (nullable = true)\n",
      " |-- segmentsDepartureTimeEpochSeconds: integer (nullable = true)\n",
      " |-- segmentsDepartureTimeRaw: timestamp (nullable = true)\n",
      " |-- segmentsArrivalTimeEpochSeconds: integer (nullable = true)\n",
      " |-- segmentsArrivalTimeRaw: timestamp (nullable = true)\n",
      " |-- segmentsArrivalAirportCode: string (nullable = true)\n",
      " |-- segmentsDepartureAirportCode: string (nullable = true)\n",
      " |-- segmentsAirlineName: string (nullable = true)\n",
      " |-- segmentsAirlineCode: string (nullable = true)\n",
      " |-- segmentsEquipmentDescription: string (nullable = true)\n",
      " |-- segmentsDurationInSeconds: integer (nullable = true)\n",
      " |-- segmentsDistance: integer (nullable = true)\n",
      " |-- segmentsCabinCode: string (nullable = true)\n",
      "\n"
     ]
    }
   ],
   "source": [
    "data.printSchema()"
   ]
  },
  {
   "cell_type": "code",
   "execution_count": null,
   "id": "f638e69b-0431-47e5-8a86-b4509cccf501",
   "metadata": {
    "id": "f638e69b-0431-47e5-8a86-b4509cccf501",
    "outputId": "61fad721-0319-4359-c079-f75dcd002d51"
   },
   "outputs": [
    {
     "name": "stderr",
     "output_type": "stream",
     "text": [
      "23/04/02 18:40:45 WARN package: Truncated the string representation of a plan since it was too large. This behavior can be adjusted by setting 'spark.sql.debug.maxToStringFields'.\n",
      "                                                                                \r"
     ]
    },
    {
     "data": {
      "text/html": [
       "<div>\n",
       "<style scoped>\n",
       "    .dataframe tbody tr th:only-of-type {\n",
       "        vertical-align: middle;\n",
       "    }\n",
       "\n",
       "    .dataframe tbody tr th {\n",
       "        vertical-align: top;\n",
       "    }\n",
       "\n",
       "    .dataframe thead th {\n",
       "        text-align: right;\n",
       "    }\n",
       "</style>\n",
       "<table border=\"1\" class=\"dataframe\">\n",
       "  <thead>\n",
       "    <tr style=\"text-align: right;\">\n",
       "      <th></th>\n",
       "      <th>legId</th>\n",
       "      <th>searchDate</th>\n",
       "      <th>flightDate</th>\n",
       "      <th>startingAirport</th>\n",
       "      <th>destinationAirport</th>\n",
       "      <th>fareBasisCode</th>\n",
       "      <th>travelDuration</th>\n",
       "      <th>elapsedDays</th>\n",
       "      <th>isBasicEconomy</th>\n",
       "      <th>isRefundable</th>\n",
       "      <th>...</th>\n",
       "      <th>segmentsArrivalTimeEpochSeconds</th>\n",
       "      <th>segmentsArrivalTimeRaw</th>\n",
       "      <th>segmentsArrivalAirportCode</th>\n",
       "      <th>segmentsDepartureAirportCode</th>\n",
       "      <th>segmentsAirlineName</th>\n",
       "      <th>segmentsAirlineCode</th>\n",
       "      <th>segmentsEquipmentDescription</th>\n",
       "      <th>segmentsDurationInSeconds</th>\n",
       "      <th>segmentsDistance</th>\n",
       "      <th>segmentsCabinCode</th>\n",
       "    </tr>\n",
       "  </thead>\n",
       "  <tbody>\n",
       "    <tr>\n",
       "      <th>0</th>\n",
       "      <td>9ca0e81111c683bec1012473feefd28f</td>\n",
       "      <td>2022-04-16</td>\n",
       "      <td>2022-04-17</td>\n",
       "      <td>ATL</td>\n",
       "      <td>BOS</td>\n",
       "      <td>LA0NX0MC</td>\n",
       "      <td>PT2H29M</td>\n",
       "      <td>0</td>\n",
       "      <td>False</td>\n",
       "      <td>False</td>\n",
       "      <td>...</td>\n",
       "      <td>1650223560</td>\n",
       "      <td>2022-04-17 19:26:00</td>\n",
       "      <td>BOS</td>\n",
       "      <td>ATL</td>\n",
       "      <td>Delta</td>\n",
       "      <td>DL</td>\n",
       "      <td>Airbus A321</td>\n",
       "      <td>8940</td>\n",
       "      <td>947</td>\n",
       "      <td>coach</td>\n",
       "    </tr>\n",
       "    <tr>\n",
       "      <th>1</th>\n",
       "      <td>98685953630e772a098941b71906592b</td>\n",
       "      <td>2022-04-16</td>\n",
       "      <td>2022-04-17</td>\n",
       "      <td>ATL</td>\n",
       "      <td>BOS</td>\n",
       "      <td>LA0NX0MC</td>\n",
       "      <td>PT2H30M</td>\n",
       "      <td>0</td>\n",
       "      <td>False</td>\n",
       "      <td>False</td>\n",
       "      <td>...</td>\n",
       "      <td>1650200400</td>\n",
       "      <td>2022-04-17 13:00:00</td>\n",
       "      <td>BOS</td>\n",
       "      <td>ATL</td>\n",
       "      <td>Delta</td>\n",
       "      <td>DL</td>\n",
       "      <td>Airbus A321</td>\n",
       "      <td>9000</td>\n",
       "      <td>947</td>\n",
       "      <td>coach</td>\n",
       "    </tr>\n",
       "    <tr>\n",
       "      <th>2</th>\n",
       "      <td>98d90cbc32bfbb05c2fc32897c7c1087</td>\n",
       "      <td>2022-04-16</td>\n",
       "      <td>2022-04-17</td>\n",
       "      <td>ATL</td>\n",
       "      <td>BOS</td>\n",
       "      <td>LA0NX0MC</td>\n",
       "      <td>PT2H30M</td>\n",
       "      <td>0</td>\n",
       "      <td>False</td>\n",
       "      <td>False</td>\n",
       "      <td>...</td>\n",
       "      <td>1650218700</td>\n",
       "      <td>2022-04-17 18:05:00</td>\n",
       "      <td>BOS</td>\n",
       "      <td>ATL</td>\n",
       "      <td>Delta</td>\n",
       "      <td>DL</td>\n",
       "      <td>Boeing 757-200</td>\n",
       "      <td>9000</td>\n",
       "      <td>947</td>\n",
       "      <td>coach</td>\n",
       "    </tr>\n",
       "  </tbody>\n",
       "</table>\n",
       "<p>3 rows × 27 columns</p>\n",
       "</div>"
      ],
      "text/plain": [
       "                              legId  searchDate  flightDate startingAirport  \\\n",
       "0  9ca0e81111c683bec1012473feefd28f  2022-04-16  2022-04-17             ATL   \n",
       "1  98685953630e772a098941b71906592b  2022-04-16  2022-04-17             ATL   \n",
       "2  98d90cbc32bfbb05c2fc32897c7c1087  2022-04-16  2022-04-17             ATL   \n",
       "\n",
       "  destinationAirport fareBasisCode travelDuration  elapsedDays  \\\n",
       "0                BOS      LA0NX0MC        PT2H29M            0   \n",
       "1                BOS      LA0NX0MC        PT2H30M            0   \n",
       "2                BOS      LA0NX0MC        PT2H30M            0   \n",
       "\n",
       "   isBasicEconomy  isRefundable  ...  segmentsArrivalTimeEpochSeconds  \\\n",
       "0           False         False  ...                       1650223560   \n",
       "1           False         False  ...                       1650200400   \n",
       "2           False         False  ...                       1650218700   \n",
       "\n",
       "   segmentsArrivalTimeRaw  segmentsArrivalAirportCode  \\\n",
       "0     2022-04-17 19:26:00                         BOS   \n",
       "1     2022-04-17 13:00:00                         BOS   \n",
       "2     2022-04-17 18:05:00                         BOS   \n",
       "\n",
       "   segmentsDepartureAirportCode  segmentsAirlineName  segmentsAirlineCode  \\\n",
       "0                           ATL                Delta                   DL   \n",
       "1                           ATL                Delta                   DL   \n",
       "2                           ATL                Delta                   DL   \n",
       "\n",
       "  segmentsEquipmentDescription  segmentsDurationInSeconds segmentsDistance  \\\n",
       "0                  Airbus A321                       8940              947   \n",
       "1                  Airbus A321                       9000              947   \n",
       "2               Boeing 757-200                       9000              947   \n",
       "\n",
       "  segmentsCabinCode  \n",
       "0             coach  \n",
       "1             coach  \n",
       "2             coach  \n",
       "\n",
       "[3 rows x 27 columns]"
      ]
     },
     "execution_count": 6,
     "metadata": {},
     "output_type": "execute_result"
    }
   ],
   "source": [
    "data.limit(3).toPandas()"
   ]
  },
  {
   "cell_type": "markdown",
   "id": "ff82cc87-4aa6-4303-9db9-28b45007eff8",
   "metadata": {
    "id": "ff82cc87-4aa6-4303-9db9-28b45007eff8",
    "tags": []
   },
   "source": [
    "***\n",
    "# EDA\n",
    "\n",
    "## A. Travel Route\n",
    "To determine the most popular airport for departure and destination, we will need to analyze the flight price data and count the number of flights departing or arriving at each airport. To add the geographical coordinates of each airport, we import a dataset called \"airport_zip\" from https://www.partow.net/miscellaneous/airportdatabase that includes longitude and latitude information. This will allow us to plot a map later on."
   ]
  },
  {
   "cell_type": "code",
   "execution_count": null,
   "id": "5ac92a06-d0a7-4ca9-a42c-fa5139c72154",
   "metadata": {
    "id": "5ac92a06-d0a7-4ca9-a42c-fa5139c72154"
   },
   "outputs": [],
   "source": [
    "#Import airport_zipcode dataset\n",
    "airport_zip_path = \"gs://is843-teamproject/GlobalAirportDatabase.csv\"\n",
    "airport_zip_schema= StructType([\n",
    "    StructField(\"ICAO Code\", StringType(), True),\n",
    "    StructField(\"IATA Code\", StringType(), True),\n",
    "    StructField(\"Airport Name\", StringType(), True),\n",
    "    StructField(\"City/Town\", StringType(), True),\n",
    "    StructField(\"Country\", StringType(), True),\n",
    "    StructField(\"Latitude Degrees\", IntegerType(), True),\n",
    "    StructField(\"Latitude Minutes\", IntegerType(), True),\n",
    "    StructField(\"Latitude Seconds\", IntegerType(), True),\n",
    "    StructField(\"Latitude Direction\", StringType(), True),\n",
    "    StructField(\"Longitude Degrees\", IntegerType(), True),\n",
    "    StructField(\"Longitude Minutes\", IntegerType(), True),\n",
    "    StructField(\"Longitude Seconds\", IntegerType(), True),\n",
    "    StructField(\"Longitude Direction\", StringType(), True),\n",
    "    StructField(\"Altitude\", IntegerType(), True),\n",
    "    StructField(\"Latitude Decimal Degrees\", DoubleType(), True),\n",
    "    StructField(\"Longitude Decimal Degrees\", DoubleType(), True)\n",
    "])\n",
    "\n",
    "airport_zipcode = spark.read.format(\"csv\")\\\n",
    "  .option(\"header\", \"true\")\\\n",
    "  .schema(airport_zip_schema)\\\n",
    "  .load(airport_zip_path)"
   ]
  },
  {
   "cell_type": "code",
   "execution_count": null,
   "id": "62566a85-f132-4672-a341-06e9ffc8e1d1",
   "metadata": {
    "id": "62566a85-f132-4672-a341-06e9ffc8e1d1",
    "outputId": "60d5b47c-7bd4-43da-ae90-ad5d3aeb04ee"
   },
   "outputs": [
    {
     "name": "stderr",
     "output_type": "stream",
     "text": [
      "                                                                                \r"
     ]
    }
   ],
   "source": [
    "# Join the flight_price and airport_zipcode\n",
    "flight_airport = data.join(airport_zipcode, data.startingAirport == airport_zipcode['IATA Code'], 'left_outer')\n",
    "\n",
    "# count the number of departure and destination airport\n",
    "departure_counts = flight_airport.groupBy('startingAirport').agg(count('*').alias('count'))\n",
    "destination_counts = flight_airport.groupBy('destinationAirport').agg(count('*').alias('count'))\n",
    "\n",
    "# Rename columns and join counts\n",
    "airport_zipcode = airport_zipcode.withColumnRenamed('IATA Code', 'airportCode')\n",
    "departure_airport_data = airport_zipcode.join(departure_counts, airport_zipcode.airportCode == departure_counts.startingAirport, 'left_outer')\n",
    "destination_airport_data = airport_zipcode.join(destination_counts, airport_zipcode.airportCode == destination_counts.destinationAirport, 'left_outer')\n",
    "\n",
    "# Convert latitude and longitude to floats\n",
    "departure_airport_data = departure_airport_data.withColumn('latitude', col('Latitude Decimal Degrees').cast('float'))\n",
    "departure_airport_data = departure_airport_data.withColumn('longitude', col('Longitude Decimal Degrees').cast('float'))\n",
    "destination_airport_data = destination_airport_data.withColumn('latitude', col('Latitude Decimal Degrees').cast('float'))\n",
    "destination_airport_data = destination_airport_data.withColumn('longitude', col('Longitude Decimal Degrees').cast('float'))\n",
    "\n",
    "# Filter count=0\n",
    "departure_airport_data = departure_airport_data.filter(col('count').isNotNull())\n",
    "destination_airport_data = destination_airport_data.filter(col('count').isNotNull())\n",
    "\n",
    "# Convert the dataframes to Pandas dataframes for plotting\n",
    "departure_airport_data_pd = departure_airport_data.select('airportCode', 'latitude', 'longitude', 'count').toPandas()\n",
    "destination_airport_data_pd = destination_airport_data.select('airportCode', 'latitude', 'longitude', 'count').toPandas()"
   ]
  },
  {
   "cell_type": "markdown",
   "id": "74b4b187-1a3b-4d53-8ef7-a8b8058f4047",
   "metadata": {
    "id": "74b4b187-1a3b-4d53-8ef7-a8b8058f4047"
   },
   "source": [
    "Next, we attempted to identify the top 5 departure and destination airports with the highest volumes. According to the result, the top departure airports are **LGA, BOS, DFW, SFO, and LAX**, while LGA and BOS are the top two departure airports with **5.9 million** and **5.8 million** departure counts, respectively. Similarly, the top destination airports are **LGA, BOS, DFW, ORD, and LAX**. It's interesting to note that SFO and LAX appear only in the top departure list. It is possible that SFO and LAX airports may have more domestic departures compared to other airports because it is a popular destination for international travelers. These travelers may transfer to domestic flights from these two airports to travel within the US."
   ]
  },
  {
   "cell_type": "code",
   "execution_count": null,
   "id": "d30e9355-bbfa-41bb-87d0-17008d9f8244",
   "metadata": {
    "id": "d30e9355-bbfa-41bb-87d0-17008d9f8244",
    "outputId": "12514d9e-64f6-4ae7-d380-6a01196ae074"
   },
   "outputs": [
    {
     "name": "stdout",
     "output_type": "stream",
     "text": [
      "   Top Departure Airports  Departure Counts Top Destination Airports  \\\n",
      "1                     LGA         5919323.0                      LGA   \n",
      "2                     BOS         5883876.0                      BOS   \n",
      "8                     DFW         5674959.0                      DFW   \n",
      "9                     SFO         5706482.0                      NaN   \n",
      "11                    NaN               NaN                      ORD   \n",
      "13                    LAX         8073281.0                      LAX   \n",
      "\n",
      "    Destination Counts  \n",
      "1            6093450.0  \n",
      "2            5801538.0  \n",
      "8            5957280.0  \n",
      "9                  NaN  \n",
      "11           5717699.0  \n",
      "13           8006721.0  \n"
     ]
    }
   ],
   "source": [
    "top_departure_airports = departure_airport_data_pd.nlargest(5, 'count')\n",
    "top_destination_airports = destination_airport_data_pd.nlargest(5, 'count')\n",
    "airport_counts = pd.DataFrame({\n",
    "    'Top Departure Airports': top_departure_airports['airportCode'],\n",
    "    'Departure Counts': top_departure_airports['count'],\n",
    "    'Top Destination Airports': top_destination_airports['airportCode'],\n",
    "    'Destination Counts': top_destination_airports['count']\n",
    "})\n",
    "print(airport_counts)"
   ]
  },
  {
   "cell_type": "code",
   "execution_count": null,
   "id": "586584e4-c27e-4577-bfbf-7f5330e631fe",
   "metadata": {
    "id": "586584e4-c27e-4577-bfbf-7f5330e631fe",
    "outputId": "b66bc44a-88ac-4f8c-b6c8-b5ba847a8485"
   },
   "outputs": [
    {
     "data": {
      "text/html": [
       "<div style=\"width:100%;\"><div style=\"position:relative;width:100%;height:0;padding-bottom:60%;\"><span style=\"color:#565656\">Make this Notebook Trusted to load map: File -> Trust Notebook</span><iframe srcdoc=\"&lt;!DOCTYPE html&gt;\n",
       "&lt;html&gt;\n",
       "&lt;head&gt;\n",
       "    \n",
       "    &lt;meta http-equiv=&quot;content-type&quot; content=&quot;text/html; charset=UTF-8&quot; /&gt;\n",
       "    \n",
       "        &lt;script&gt;\n",
       "            L_NO_TOUCH = false;\n",
       "            L_DISABLE_3D = false;\n",
       "        &lt;/script&gt;\n",
       "    \n",
       "    &lt;style&gt;html, body {width: 100%;height: 100%;margin: 0;padding: 0;}&lt;/style&gt;\n",
       "    &lt;style&gt;#map {position:absolute;top:0;bottom:0;right:0;left:0;}&lt;/style&gt;\n",
       "    &lt;script src=&quot;https://cdn.jsdelivr.net/npm/leaflet@1.9.3/dist/leaflet.js&quot;&gt;&lt;/script&gt;\n",
       "    &lt;script src=&quot;https://code.jquery.com/jquery-1.12.4.min.js&quot;&gt;&lt;/script&gt;\n",
       "    &lt;script src=&quot;https://cdn.jsdelivr.net/npm/bootstrap@5.2.2/dist/js/bootstrap.bundle.min.js&quot;&gt;&lt;/script&gt;\n",
       "    &lt;script src=&quot;https://cdnjs.cloudflare.com/ajax/libs/Leaflet.awesome-markers/2.0.2/leaflet.awesome-markers.js&quot;&gt;&lt;/script&gt;\n",
       "    &lt;link rel=&quot;stylesheet&quot; href=&quot;https://cdn.jsdelivr.net/npm/leaflet@1.9.3/dist/leaflet.css&quot;/&gt;\n",
       "    &lt;link rel=&quot;stylesheet&quot; href=&quot;https://cdn.jsdelivr.net/npm/bootstrap@5.2.2/dist/css/bootstrap.min.css&quot;/&gt;\n",
       "    &lt;link rel=&quot;stylesheet&quot; href=&quot;https://netdna.bootstrapcdn.com/bootstrap/3.0.0/css/bootstrap.min.css&quot;/&gt;\n",
       "    &lt;link rel=&quot;stylesheet&quot; href=&quot;https://cdn.jsdelivr.net/npm/@fortawesome/fontawesome-free@6.2.0/css/all.min.css&quot;/&gt;\n",
       "    &lt;link rel=&quot;stylesheet&quot; href=&quot;https://cdnjs.cloudflare.com/ajax/libs/Leaflet.awesome-markers/2.0.2/leaflet.awesome-markers.css&quot;/&gt;\n",
       "    &lt;link rel=&quot;stylesheet&quot; href=&quot;https://cdn.jsdelivr.net/gh/python-visualization/folium/folium/templates/leaflet.awesome.rotate.min.css&quot;/&gt;\n",
       "    \n",
       "            &lt;meta name=&quot;viewport&quot; content=&quot;width=device-width,\n",
       "                initial-scale=1.0, maximum-scale=1.0, user-scalable=no&quot; /&gt;\n",
       "            &lt;style&gt;\n",
       "                #map_f3863f310144ca2eddbd031158fd0396 {\n",
       "                    position: relative;\n",
       "                    width: 100.0%;\n",
       "                    height: 100.0%;\n",
       "                    left: 0.0%;\n",
       "                    top: 0.0%;\n",
       "                }\n",
       "                .leaflet-container { font-size: 1rem; }\n",
       "            &lt;/style&gt;\n",
       "        \n",
       "&lt;/head&gt;\n",
       "&lt;body&gt;\n",
       "    \n",
       "    \n",
       "            &lt;div class=&quot;folium-map&quot; id=&quot;map_f3863f310144ca2eddbd031158fd0396&quot; &gt;&lt;/div&gt;\n",
       "        \n",
       "&lt;/body&gt;\n",
       "&lt;script&gt;\n",
       "    \n",
       "    \n",
       "            var map_f3863f310144ca2eddbd031158fd0396 = L.map(\n",
       "                &quot;map_f3863f310144ca2eddbd031158fd0396&quot;,\n",
       "                {\n",
       "                    center: [39.8283, -98.5795],\n",
       "                    crs: L.CRS.EPSG3857,\n",
       "                    zoom: 4,\n",
       "                    zoomControl: true,\n",
       "                    preferCanvas: false,\n",
       "                }\n",
       "            );\n",
       "\n",
       "            \n",
       "\n",
       "        \n",
       "    \n",
       "            var tile_layer_f1c5545d11b2690d530cf5c23443dd24 = L.tileLayer(\n",
       "                &quot;https://{s}.tile.openstreetmap.org/{z}/{x}/{y}.png&quot;,\n",
       "                {&quot;attribution&quot;: &quot;Data by \\u0026copy; \\u003ca target=\\&quot;_blank\\&quot; href=\\&quot;http://openstreetmap.org\\&quot;\\u003eOpenStreetMap\\u003c/a\\u003e, under \\u003ca target=\\&quot;_blank\\&quot; href=\\&quot;http://www.openstreetmap.org/copyright\\&quot;\\u003eODbL\\u003c/a\\u003e.&quot;, &quot;detectRetina&quot;: false, &quot;maxNativeZoom&quot;: 18, &quot;maxZoom&quot;: 18, &quot;minZoom&quot;: 0, &quot;noWrap&quot;: false, &quot;opacity&quot;: 1, &quot;subdomains&quot;: &quot;abc&quot;, &quot;tms&quot;: false}\n",
       "            ).addTo(map_f3863f310144ca2eddbd031158fd0396);\n",
       "        \n",
       "    \n",
       "            var circle_marker_74ef220a6749f53f1634fd679005a456 = L.circleMarker(\n",
       "                [37.72100067138672, -122.22100067138672],\n",
       "                {&quot;bubblingMouseEvents&quot;: true, &quot;color&quot;: &quot;blue&quot;, &quot;dashArray&quot;: null, &quot;dashOffset&quot;: null, &quot;fill&quot;: true, &quot;fillColor&quot;: &quot;blue&quot;, &quot;fillOpacity&quot;: 0.7, &quot;fillRule&quot;: &quot;evenodd&quot;, &quot;lineCap&quot;: &quot;round&quot;, &quot;lineJoin&quot;: &quot;round&quot;, &quot;opacity&quot;: 1.0, &quot;radius&quot;: 25.399226666666667, &quot;stroke&quot;: true, &quot;weight&quot;: 3}\n",
       "            ).addTo(map_f3863f310144ca2eddbd031158fd0396);\n",
       "        \n",
       "    \n",
       "            var marker_55ef8f338148e6b5355c92d3b13aec28 = L.marker(\n",
       "                [37.72100067138672, -122.22100067138672],\n",
       "                {}\n",
       "            ).addTo(map_f3863f310144ca2eddbd031158fd0396);\n",
       "        \n",
       "    \n",
       "            marker_55ef8f338148e6b5355c92d3b13aec28.bindTooltip(\n",
       "                `&lt;div&gt;\n",
       "                     OAK\n",
       "                 &lt;/div&gt;`,\n",
       "                {&quot;sticky&quot;: true}\n",
       "            );\n",
       "        \n",
       "    \n",
       "            var circle_marker_61da80df7b753e995b0f0e0a10ebfb5b = L.circleMarker(\n",
       "                [40.777000427246094, -73.87200164794922],\n",
       "                {&quot;bubblingMouseEvents&quot;: true, &quot;color&quot;: &quot;blue&quot;, &quot;dashArray&quot;: null, &quot;dashOffset&quot;: null, &quot;fill&quot;: true, &quot;fillColor&quot;: &quot;blue&quot;, &quot;fillOpacity&quot;: 0.7, &quot;fillRule&quot;: &quot;evenodd&quot;, &quot;lineCap&quot;: &quot;round&quot;, &quot;lineJoin&quot;: &quot;round&quot;, &quot;opacity&quot;: 1.0, &quot;radius&quot;: 39.46215333333333, &quot;stroke&quot;: true, &quot;weight&quot;: 3}\n",
       "            ).addTo(map_f3863f310144ca2eddbd031158fd0396);\n",
       "        \n",
       "    \n",
       "            var marker_6d59eade44a2b8993de83b46d4f8e196 = L.marker(\n",
       "                [40.777000427246094, -73.87200164794922],\n",
       "                {}\n",
       "            ).addTo(map_f3863f310144ca2eddbd031158fd0396);\n",
       "        \n",
       "    \n",
       "            marker_6d59eade44a2b8993de83b46d4f8e196.bindTooltip(\n",
       "                `&lt;div&gt;\n",
       "                     LGA\n",
       "                 &lt;/div&gt;`,\n",
       "                {&quot;sticky&quot;: true}\n",
       "            );\n",
       "        \n",
       "    \n",
       "            var circle_marker_56c2a4c23807793eab0ff3f042fe6a12 = L.circleMarker(\n",
       "                [42.36399841308594, -71.00499725341797],\n",
       "                {&quot;bubblingMouseEvents&quot;: true, &quot;color&quot;: &quot;blue&quot;, &quot;dashArray&quot;: null, &quot;dashOffset&quot;: null, &quot;fill&quot;: true, &quot;fillColor&quot;: &quot;blue&quot;, &quot;fillOpacity&quot;: 0.7, &quot;fillRule&quot;: &quot;evenodd&quot;, &quot;lineCap&quot;: &quot;round&quot;, &quot;lineJoin&quot;: &quot;round&quot;, &quot;opacity&quot;: 1.0, &quot;radius&quot;: 39.22584, &quot;stroke&quot;: true, &quot;weight&quot;: 3}\n",
       "            ).addTo(map_f3863f310144ca2eddbd031158fd0396);\n",
       "        \n",
       "    \n",
       "            var marker_44a9852ca1eadb0d7d81dd4820be9c2a = L.marker(\n",
       "                [42.36399841308594, -71.00499725341797],\n",
       "                {}\n",
       "            ).addTo(map_f3863f310144ca2eddbd031158fd0396);\n",
       "        \n",
       "    \n",
       "            marker_44a9852ca1eadb0d7d81dd4820be9c2a.bindTooltip(\n",
       "                `&lt;div&gt;\n",
       "                     BOS\n",
       "                 &lt;/div&gt;`,\n",
       "                {&quot;sticky&quot;: true}\n",
       "            );\n",
       "        \n",
       "    \n",
       "            var circle_marker_1abdfe0ef3e9592bdae4fd27756956c6 = L.circleMarker(\n",
       "                [40.69200134277344, -74.16899871826172],\n",
       "                {&quot;bubblingMouseEvents&quot;: true, &quot;color&quot;: &quot;blue&quot;, &quot;dashArray&quot;: null, &quot;dashOffset&quot;: null, &quot;fill&quot;: true, &quot;fillColor&quot;: &quot;blue&quot;, &quot;fillOpacity&quot;: 0.7, &quot;fillRule&quot;: &quot;evenodd&quot;, &quot;lineCap&quot;: &quot;round&quot;, &quot;lineJoin&quot;: &quot;round&quot;, &quot;opacity&quot;: 1.0, &quot;radius&quot;: 26.47198, &quot;stroke&quot;: true, &quot;weight&quot;: 3}\n",
       "            ).addTo(map_f3863f310144ca2eddbd031158fd0396);\n",
       "        \n",
       "    \n",
       "            var marker_56d07b3b0111ab11ee33750bc754e02d = L.marker(\n",
       "                [40.69200134277344, -74.16899871826172],\n",
       "                {}\n",
       "            ).addTo(map_f3863f310144ca2eddbd031158fd0396);\n",
       "        \n",
       "    \n",
       "            marker_56d07b3b0111ab11ee33750bc754e02d.bindTooltip(\n",
       "                `&lt;div&gt;\n",
       "                     EWR\n",
       "                 &lt;/div&gt;`,\n",
       "                {&quot;sticky&quot;: true}\n",
       "            );\n",
       "        \n",
       "    \n",
       "            var circle_marker_d04fd34bb604ad98e9142ce8a306181d = L.circleMarker(\n",
       "                [39.858001708984375, -104.66699981689453],\n",
       "                {&quot;bubblingMouseEvents&quot;: true, &quot;color&quot;: &quot;blue&quot;, &quot;dashArray&quot;: null, &quot;dashOffset&quot;: null, &quot;fill&quot;: true, &quot;fillColor&quot;: &quot;blue&quot;, &quot;fillOpacity&quot;: 0.7, &quot;fillRule&quot;: &quot;evenodd&quot;, &quot;lineCap&quot;: &quot;round&quot;, &quot;lineJoin&quot;: &quot;round&quot;, &quot;opacity&quot;: 1.0, &quot;radius&quot;: 31.314286666666668, &quot;stroke&quot;: true, &quot;weight&quot;: 3}\n",
       "            ).addTo(map_f3863f310144ca2eddbd031158fd0396);\n",
       "        \n",
       "    \n",
       "            var marker_9158dc41c27d0c138d52765c2c6ffb17 = L.marker(\n",
       "                [39.858001708984375, -104.66699981689453],\n",
       "                {}\n",
       "            ).addTo(map_f3863f310144ca2eddbd031158fd0396);\n",
       "        \n",
       "    \n",
       "            marker_9158dc41c27d0c138d52765c2c6ffb17.bindTooltip(\n",
       "                `&lt;div&gt;\n",
       "                     DEN\n",
       "                 &lt;/div&gt;`,\n",
       "                {&quot;sticky&quot;: true}\n",
       "            );\n",
       "        \n",
       "    \n",
       "            var circle_marker_5ecae4a2cb030eaaad5fa69983cc0fca = L.circleMarker(\n",
       "                [38.944000244140625, -77.45600128173828],\n",
       "                {&quot;bubblingMouseEvents&quot;: true, &quot;color&quot;: &quot;blue&quot;, &quot;dashArray&quot;: null, &quot;dashOffset&quot;: null, &quot;fill&quot;: true, &quot;fillColor&quot;: &quot;blue&quot;, &quot;fillOpacity&quot;: 0.7, &quot;fillRule&quot;: &quot;evenodd&quot;, &quot;lineCap&quot;: &quot;round&quot;, &quot;lineJoin&quot;: &quot;round&quot;, &quot;opacity&quot;: 1.0, &quot;radius&quot;: 23.095853333333334, &quot;stroke&quot;: true, &quot;weight&quot;: 3}\n",
       "            ).addTo(map_f3863f310144ca2eddbd031158fd0396);\n",
       "        \n",
       "    \n",
       "            var marker_4a131518fbf2fcba2c6bfdd53107eb6f = L.marker(\n",
       "                [38.944000244140625, -77.45600128173828],\n",
       "                {}\n",
       "            ).addTo(map_f3863f310144ca2eddbd031158fd0396);\n",
       "        \n",
       "    \n",
       "            marker_4a131518fbf2fcba2c6bfdd53107eb6f.bindTooltip(\n",
       "                `&lt;div&gt;\n",
       "                     IAD\n",
       "                 &lt;/div&gt;`,\n",
       "                {&quot;sticky&quot;: true}\n",
       "            );\n",
       "        \n",
       "    \n",
       "            var circle_marker_e21e03196956b6cffa2c8294e0845801 = L.circleMarker(\n",
       "                [35.2140007019043, -80.94300079345703],\n",
       "                {&quot;bubblingMouseEvents&quot;: true, &quot;color&quot;: &quot;blue&quot;, &quot;dashArray&quot;: null, &quot;dashOffset&quot;: null, &quot;fill&quot;: true, &quot;fillColor&quot;: &quot;blue&quot;, &quot;fillOpacity&quot;: 0.7, &quot;fillRule&quot;: &quot;evenodd&quot;, &quot;lineCap&quot;: &quot;round&quot;, &quot;lineJoin&quot;: &quot;round&quot;, &quot;opacity&quot;: 1.0, &quot;radius&quot;: 36.630066666666664, &quot;stroke&quot;: true, &quot;weight&quot;: 3}\n",
       "            ).addTo(map_f3863f310144ca2eddbd031158fd0396);\n",
       "        \n",
       "    \n",
       "            var marker_dbf0542fd364be37e54a90b0c2dcadfa = L.marker(\n",
       "                [35.2140007019043, -80.94300079345703],\n",
       "                {}\n",
       "            ).addTo(map_f3863f310144ca2eddbd031158fd0396);\n",
       "        \n",
       "    \n",
       "            marker_dbf0542fd364be37e54a90b0c2dcadfa.bindTooltip(\n",
       "                `&lt;div&gt;\n",
       "                     CLT\n",
       "                 &lt;/div&gt;`,\n",
       "                {&quot;sticky&quot;: true}\n",
       "            );\n",
       "        \n",
       "    \n",
       "            var circle_marker_3b8ad54b0fa967a1e02bc930e1761103 = L.circleMarker(\n",
       "                [25.792999267578125, -80.29100036621094],\n",
       "                {&quot;bubblingMouseEvents&quot;: true, &quot;color&quot;: &quot;blue&quot;, &quot;dashArray&quot;: null, &quot;dashOffset&quot;: null, &quot;fill&quot;: true, &quot;fillColor&quot;: &quot;blue&quot;, &quot;fillOpacity&quot;: 0.7, &quot;fillRule&quot;: &quot;evenodd&quot;, &quot;lineCap&quot;: &quot;round&quot;, &quot;lineJoin&quot;: &quot;round&quot;, &quot;opacity&quot;: 1.0, &quot;radius&quot;: 32.86808666666666, &quot;stroke&quot;: true, &quot;weight&quot;: 3}\n",
       "            ).addTo(map_f3863f310144ca2eddbd031158fd0396);\n",
       "        \n",
       "    \n",
       "            var marker_220dc2ad75b1383d600e2c2f14c855de = L.marker(\n",
       "                [25.792999267578125, -80.29100036621094],\n",
       "                {}\n",
       "            ).addTo(map_f3863f310144ca2eddbd031158fd0396);\n",
       "        \n",
       "    \n",
       "            marker_220dc2ad75b1383d600e2c2f14c855de.bindTooltip(\n",
       "                `&lt;div&gt;\n",
       "                     MIA\n",
       "                 &lt;/div&gt;`,\n",
       "                {&quot;sticky&quot;: true}\n",
       "            );\n",
       "        \n",
       "    \n",
       "            var circle_marker_86dca73609adb17ac34e54188483c448 = L.circleMarker(\n",
       "                [32.895999908447266, -97.03700256347656],\n",
       "                {&quot;bubblingMouseEvents&quot;: true, &quot;color&quot;: &quot;blue&quot;, &quot;dashArray&quot;: null, &quot;dashOffset&quot;: null, &quot;fill&quot;: true, &quot;fillColor&quot;: &quot;blue&quot;, &quot;fillOpacity&quot;: 0.7, &quot;fillRule&quot;: &quot;evenodd&quot;, &quot;lineCap&quot;: &quot;round&quot;, &quot;lineJoin&quot;: &quot;round&quot;, &quot;opacity&quot;: 1.0, &quot;radius&quot;: 37.83306, &quot;stroke&quot;: true, &quot;weight&quot;: 3}\n",
       "            ).addTo(map_f3863f310144ca2eddbd031158fd0396);\n",
       "        \n",
       "    \n",
       "            var marker_9b0310482b0c17d4c5b46d158cb87c0b = L.marker(\n",
       "                [32.895999908447266, -97.03700256347656],\n",
       "                {}\n",
       "            ).addTo(map_f3863f310144ca2eddbd031158fd0396);\n",
       "        \n",
       "    \n",
       "            marker_9b0310482b0c17d4c5b46d158cb87c0b.bindTooltip(\n",
       "                `&lt;div&gt;\n",
       "                     DFW\n",
       "                 &lt;/div&gt;`,\n",
       "                {&quot;sticky&quot;: true}\n",
       "            );\n",
       "        \n",
       "    \n",
       "            var circle_marker_a5ba481de9136e90fe4e70b2f60d9e7f = L.circleMarker(\n",
       "                [37.61899948120117, -122.375],\n",
       "                {&quot;bubblingMouseEvents&quot;: true, &quot;color&quot;: &quot;blue&quot;, &quot;dashArray&quot;: null, &quot;dashOffset&quot;: null, &quot;fill&quot;: true, &quot;fillColor&quot;: &quot;blue&quot;, &quot;fillOpacity&quot;: 0.7, &quot;fillRule&quot;: &quot;evenodd&quot;, &quot;lineCap&quot;: &quot;round&quot;, &quot;lineJoin&quot;: &quot;round&quot;, &quot;opacity&quot;: 1.0, &quot;radius&quot;: 38.043213333333334, &quot;stroke&quot;: true, &quot;weight&quot;: 3}\n",
       "            ).addTo(map_f3863f310144ca2eddbd031158fd0396);\n",
       "        \n",
       "    \n",
       "            var marker_4879910d0670ef4c2cb5f55f606e2416 = L.marker(\n",
       "                [37.61899948120117, -122.375],\n",
       "                {}\n",
       "            ).addTo(map_f3863f310144ca2eddbd031158fd0396);\n",
       "        \n",
       "    \n",
       "            marker_4879910d0670ef4c2cb5f55f606e2416.bindTooltip(\n",
       "                `&lt;div&gt;\n",
       "                     SFO\n",
       "                 &lt;/div&gt;`,\n",
       "                {&quot;sticky&quot;: true}\n",
       "            );\n",
       "        \n",
       "    \n",
       "            var circle_marker_a6b338dec01e14d60d1a308f593082ef = L.circleMarker(\n",
       "                [33.63999938964844, -84.427001953125],\n",
       "                {&quot;bubblingMouseEvents&quot;: true, &quot;color&quot;: &quot;blue&quot;, &quot;dashArray&quot;: null, &quot;dashOffset&quot;: null, &quot;fill&quot;: true, &quot;fillColor&quot;: &quot;blue&quot;, &quot;fillOpacity&quot;: 0.7, &quot;fillRule&quot;: &quot;evenodd&quot;, &quot;lineCap&quot;: &quot;round&quot;, &quot;lineJoin&quot;: &quot;round&quot;, &quot;opacity&quot;: 1.0, &quot;radius&quot;: 35.41352, &quot;stroke&quot;: true, &quot;weight&quot;: 3}\n",
       "            ).addTo(map_f3863f310144ca2eddbd031158fd0396);\n",
       "        \n",
       "    \n",
       "            var marker_b760a87b5690b6a80ea80164b6a67f88 = L.marker(\n",
       "                [33.63999938964844, -84.427001953125],\n",
       "                {}\n",
       "            ).addTo(map_f3863f310144ca2eddbd031158fd0396);\n",
       "        \n",
       "    \n",
       "            marker_b760a87b5690b6a80ea80164b6a67f88.bindTooltip(\n",
       "                `&lt;div&gt;\n",
       "                     ATL\n",
       "                 &lt;/div&gt;`,\n",
       "                {&quot;sticky&quot;: true}\n",
       "            );\n",
       "        \n",
       "    \n",
       "            var circle_marker_268f5e2ca1693a721631192fa90b2460 = L.circleMarker(\n",
       "                [41.979000091552734, -87.90399932861328],\n",
       "                {&quot;bubblingMouseEvents&quot;: true, &quot;color&quot;: &quot;blue&quot;, &quot;dashArray&quot;: null, &quot;dashOffset&quot;: null, &quot;fill&quot;: true, &quot;fillColor&quot;: &quot;blue&quot;, &quot;fillOpacity&quot;: 0.7, &quot;fillRule&quot;: &quot;evenodd&quot;, &quot;lineCap&quot;: &quot;round&quot;, &quot;lineJoin&quot;: &quot;round&quot;, &quot;opacity&quot;: 1.0, &quot;radius&quot;: 36.68984, &quot;stroke&quot;: true, &quot;weight&quot;: 3}\n",
       "            ).addTo(map_f3863f310144ca2eddbd031158fd0396);\n",
       "        \n",
       "    \n",
       "            var marker_8e763dc1cf3b40b7300ee475737bec5a = L.marker(\n",
       "                [41.979000091552734, -87.90399932861328],\n",
       "                {}\n",
       "            ).addTo(map_f3863f310144ca2eddbd031158fd0396);\n",
       "        \n",
       "    \n",
       "            marker_8e763dc1cf3b40b7300ee475737bec5a.bindTooltip(\n",
       "                `&lt;div&gt;\n",
       "                     ORD\n",
       "                 &lt;/div&gt;`,\n",
       "                {&quot;sticky&quot;: true}\n",
       "            );\n",
       "        \n",
       "    \n",
       "            var circle_marker_6fe05da8be97e0e4a73d3bf48ec35586 = L.circleMarker(\n",
       "                [42.21200180053711, -83.35299682617188],\n",
       "                {&quot;bubblingMouseEvents&quot;: true, &quot;color&quot;: &quot;blue&quot;, &quot;dashArray&quot;: null, &quot;dashOffset&quot;: null, &quot;fill&quot;: true, &quot;fillColor&quot;: &quot;blue&quot;, &quot;fillOpacity&quot;: 0.7, &quot;fillRule&quot;: &quot;evenodd&quot;, &quot;lineCap&quot;: &quot;round&quot;, &quot;lineJoin&quot;: &quot;round&quot;, &quot;opacity&quot;: 1.0, &quot;radius&quot;: 30.31368, &quot;stroke&quot;: true, &quot;weight&quot;: 3}\n",
       "            ).addTo(map_f3863f310144ca2eddbd031158fd0396);\n",
       "        \n",
       "    \n",
       "            var marker_261b45e955c03c0ecb74469c83ac5fb6 = L.marker(\n",
       "                [42.21200180053711, -83.35299682617188],\n",
       "                {}\n",
       "            ).addTo(map_f3863f310144ca2eddbd031158fd0396);\n",
       "        \n",
       "    \n",
       "            marker_261b45e955c03c0ecb74469c83ac5fb6.bindTooltip(\n",
       "                `&lt;div&gt;\n",
       "                     DTW\n",
       "                 &lt;/div&gt;`,\n",
       "                {&quot;sticky&quot;: true}\n",
       "            );\n",
       "        \n",
       "    \n",
       "            var circle_marker_4118bfa0512b478fa7577180f4c9e39b = L.circleMarker(\n",
       "                [33.94200134277344, -118.40799713134766],\n",
       "                {&quot;bubblingMouseEvents&quot;: true, &quot;color&quot;: &quot;blue&quot;, &quot;dashArray&quot;: null, &quot;dashOffset&quot;: null, &quot;fill&quot;: true, &quot;fillColor&quot;: &quot;blue&quot;, &quot;fillOpacity&quot;: 0.7, &quot;fillRule&quot;: &quot;evenodd&quot;, &quot;lineCap&quot;: &quot;round&quot;, &quot;lineJoin&quot;: &quot;round&quot;, &quot;opacity&quot;: 1.0, &quot;radius&quot;: 53.821873333333336, &quot;stroke&quot;: true, &quot;weight&quot;: 3}\n",
       "            ).addTo(map_f3863f310144ca2eddbd031158fd0396);\n",
       "        \n",
       "    \n",
       "            var marker_6718a8f7c2baac634cb94e759c503047 = L.marker(\n",
       "                [33.94200134277344, -118.40799713134766],\n",
       "                {}\n",
       "            ).addTo(map_f3863f310144ca2eddbd031158fd0396);\n",
       "        \n",
       "    \n",
       "            marker_6718a8f7c2baac634cb94e759c503047.bindTooltip(\n",
       "                `&lt;div&gt;\n",
       "                     LAX\n",
       "                 &lt;/div&gt;`,\n",
       "                {&quot;sticky&quot;: true}\n",
       "            );\n",
       "        \n",
       "    \n",
       "            var circle_marker_290e93d6dcf2167b836d5a937f7b3846 = L.circleMarker(\n",
       "                [40.63999938964844, -73.77899932861328],\n",
       "                {&quot;bubblingMouseEvents&quot;: true, &quot;color&quot;: &quot;blue&quot;, &quot;dashArray&quot;: null, &quot;dashOffset&quot;: null, &quot;fill&quot;: true, &quot;fillColor&quot;: &quot;blue&quot;, &quot;fillOpacity&quot;: 0.7, &quot;fillRule&quot;: &quot;evenodd&quot;, &quot;lineCap&quot;: &quot;round&quot;, &quot;lineJoin&quot;: &quot;round&quot;, &quot;opacity&quot;: 1.0, &quot;radius&quot;: 29.501093333333333, &quot;stroke&quot;: true, &quot;weight&quot;: 3}\n",
       "            ).addTo(map_f3863f310144ca2eddbd031158fd0396);\n",
       "        \n",
       "    \n",
       "            var marker_5a26eb838958846d4fa71fc53c8a1211 = L.marker(\n",
       "                [40.63999938964844, -73.77899932861328],\n",
       "                {}\n",
       "            ).addTo(map_f3863f310144ca2eddbd031158fd0396);\n",
       "        \n",
       "    \n",
       "            marker_5a26eb838958846d4fa71fc53c8a1211.bindTooltip(\n",
       "                `&lt;div&gt;\n",
       "                     JFK\n",
       "                 &lt;/div&gt;`,\n",
       "                {&quot;sticky&quot;: true}\n",
       "            );\n",
       "        \n",
       "    \n",
       "            var circle_marker_9c5a1cd2c28db0d58908353fe7829e82 = L.circleMarker(\n",
       "                [39.87200164794922, -75.24099731445312],\n",
       "                {&quot;bubblingMouseEvents&quot;: true, &quot;color&quot;: &quot;blue&quot;, &quot;dashArray&quot;: null, &quot;dashOffset&quot;: null, &quot;fill&quot;: true, &quot;fillColor&quot;: &quot;blue&quot;, &quot;fillOpacity&quot;: 0.7, &quot;fillRule&quot;: &quot;evenodd&quot;, &quot;lineCap&quot;: &quot;round&quot;, &quot;lineJoin&quot;: &quot;round&quot;, &quot;opacity&quot;: 1.0, &quot;radius&quot;: 31.507913333333335, &quot;stroke&quot;: true, &quot;weight&quot;: 3}\n",
       "            ).addTo(map_f3863f310144ca2eddbd031158fd0396);\n",
       "        \n",
       "    \n",
       "            var marker_5135c1a62915e0682cac24f4001f206c = L.marker(\n",
       "                [39.87200164794922, -75.24099731445312],\n",
       "                {}\n",
       "            ).addTo(map_f3863f310144ca2eddbd031158fd0396);\n",
       "        \n",
       "    \n",
       "            marker_5135c1a62915e0682cac24f4001f206c.bindTooltip(\n",
       "                `&lt;div&gt;\n",
       "                     PHL\n",
       "                 &lt;/div&gt;`,\n",
       "                {&quot;sticky&quot;: true}\n",
       "            );\n",
       "        \n",
       "    \n",
       "            var circle_marker_7d80ce3d3212341cce9c31cdabfd243c = L.circleMarker(\n",
       "                [37.72100067138672, -122.22100067138672],\n",
       "                {&quot;bubblingMouseEvents&quot;: true, &quot;color&quot;: &quot;red&quot;, &quot;dashArray&quot;: null, &quot;dashOffset&quot;: null, &quot;fill&quot;: true, &quot;fillColor&quot;: &quot;red&quot;, &quot;fillOpacity&quot;: 0.7, &quot;fillRule&quot;: &quot;evenodd&quot;, &quot;lineCap&quot;: &quot;round&quot;, &quot;lineJoin&quot;: &quot;round&quot;, &quot;opacity&quot;: 1.0, &quot;radius&quot;: 24.386153333333333, &quot;stroke&quot;: true, &quot;weight&quot;: 3}\n",
       "            ).addTo(map_f3863f310144ca2eddbd031158fd0396);\n",
       "        \n",
       "    \n",
       "            var marker_ec2e195ed62a6f68cd72d0192234f915 = L.marker(\n",
       "                [37.72100067138672, -122.22100067138672],\n",
       "                {}\n",
       "            ).addTo(map_f3863f310144ca2eddbd031158fd0396);\n",
       "        \n",
       "    \n",
       "            marker_ec2e195ed62a6f68cd72d0192234f915.bindTooltip(\n",
       "                `&lt;div&gt;\n",
       "                     OAK\n",
       "                 &lt;/div&gt;`,\n",
       "                {&quot;sticky&quot;: true}\n",
       "            );\n",
       "        \n",
       "    \n",
       "            var circle_marker_aede5c28e391764990e8282ece625551 = L.circleMarker(\n",
       "                [40.777000427246094, -73.87200164794922],\n",
       "                {&quot;bubblingMouseEvents&quot;: true, &quot;color&quot;: &quot;red&quot;, &quot;dashArray&quot;: null, &quot;dashOffset&quot;: null, &quot;fill&quot;: true, &quot;fillColor&quot;: &quot;red&quot;, &quot;fillOpacity&quot;: 0.7, &quot;fillRule&quot;: &quot;evenodd&quot;, &quot;lineCap&quot;: &quot;round&quot;, &quot;lineJoin&quot;: &quot;round&quot;, &quot;opacity&quot;: 1.0, &quot;radius&quot;: 40.623, &quot;stroke&quot;: true, &quot;weight&quot;: 3}\n",
       "            ).addTo(map_f3863f310144ca2eddbd031158fd0396);\n",
       "        \n",
       "    \n",
       "            var marker_cfcfcce4bb13faa6a43093b8d39b0b87 = L.marker(\n",
       "                [40.777000427246094, -73.87200164794922],\n",
       "                {}\n",
       "            ).addTo(map_f3863f310144ca2eddbd031158fd0396);\n",
       "        \n",
       "    \n",
       "            marker_cfcfcce4bb13faa6a43093b8d39b0b87.bindTooltip(\n",
       "                `&lt;div&gt;\n",
       "                     LGA\n",
       "                 &lt;/div&gt;`,\n",
       "                {&quot;sticky&quot;: true}\n",
       "            );\n",
       "        \n",
       "    \n",
       "            var circle_marker_7897530427c13d024f1bdc1ac19e4f06 = L.circleMarker(\n",
       "                [42.36399841308594, -71.00499725341797],\n",
       "                {&quot;bubblingMouseEvents&quot;: true, &quot;color&quot;: &quot;red&quot;, &quot;dashArray&quot;: null, &quot;dashOffset&quot;: null, &quot;fill&quot;: true, &quot;fillColor&quot;: &quot;red&quot;, &quot;fillOpacity&quot;: 0.7, &quot;fillRule&quot;: &quot;evenodd&quot;, &quot;lineCap&quot;: &quot;round&quot;, &quot;lineJoin&quot;: &quot;round&quot;, &quot;opacity&quot;: 1.0, &quot;radius&quot;: 38.67692, &quot;stroke&quot;: true, &quot;weight&quot;: 3}\n",
       "            ).addTo(map_f3863f310144ca2eddbd031158fd0396);\n",
       "        \n",
       "    \n",
       "            var marker_dc77644694b6b6b212fd2fa0d961c73c = L.marker(\n",
       "                [42.36399841308594, -71.00499725341797],\n",
       "                {}\n",
       "            ).addTo(map_f3863f310144ca2eddbd031158fd0396);\n",
       "        \n",
       "    \n",
       "            marker_dc77644694b6b6b212fd2fa0d961c73c.bindTooltip(\n",
       "                `&lt;div&gt;\n",
       "                     BOS\n",
       "                 &lt;/div&gt;`,\n",
       "                {&quot;sticky&quot;: true}\n",
       "            );\n",
       "        \n",
       "    \n",
       "            var circle_marker_6ffad5c3165bbffd00a5fc3b2e4a60dc = L.circleMarker(\n",
       "                [40.69200134277344, -74.16899871826172],\n",
       "                {&quot;bubblingMouseEvents&quot;: true, &quot;color&quot;: &quot;red&quot;, &quot;dashArray&quot;: null, &quot;dashOffset&quot;: null, &quot;fill&quot;: true, &quot;fillColor&quot;: &quot;red&quot;, &quot;fillOpacity&quot;: 0.7, &quot;fillRule&quot;: &quot;evenodd&quot;, &quot;lineCap&quot;: &quot;round&quot;, &quot;lineJoin&quot;: &quot;round&quot;, &quot;opacity&quot;: 1.0, &quot;radius&quot;: 27.164653333333334, &quot;stroke&quot;: true, &quot;weight&quot;: 3}\n",
       "            ).addTo(map_f3863f310144ca2eddbd031158fd0396);\n",
       "        \n",
       "    \n",
       "            var marker_e1705f614f4cea1cded4f8330a85352b = L.marker(\n",
       "                [40.69200134277344, -74.16899871826172],\n",
       "                {}\n",
       "            ).addTo(map_f3863f310144ca2eddbd031158fd0396);\n",
       "        \n",
       "    \n",
       "            marker_e1705f614f4cea1cded4f8330a85352b.bindTooltip(\n",
       "                `&lt;div&gt;\n",
       "                     EWR\n",
       "                 &lt;/div&gt;`,\n",
       "                {&quot;sticky&quot;: true}\n",
       "            );\n",
       "        \n",
       "    \n",
       "            var circle_marker_1cc870564a961c0048eb7367ca0f6423 = L.circleMarker(\n",
       "                [39.858001708984375, -104.66699981689453],\n",
       "                {&quot;bubblingMouseEvents&quot;: true, &quot;color&quot;: &quot;red&quot;, &quot;dashArray&quot;: null, &quot;dashOffset&quot;: null, &quot;fill&quot;: true, &quot;fillColor&quot;: &quot;red&quot;, &quot;fillOpacity&quot;: 0.7, &quot;fillRule&quot;: &quot;evenodd&quot;, &quot;lineCap&quot;: &quot;round&quot;, &quot;lineJoin&quot;: &quot;round&quot;, &quot;opacity&quot;: 1.0, &quot;radius&quot;: 30.871306666666666, &quot;stroke&quot;: true, &quot;weight&quot;: 3}\n",
       "            ).addTo(map_f3863f310144ca2eddbd031158fd0396);\n",
       "        \n",
       "    \n",
       "            var marker_9bf70b851b5d073ba0fb9210eee9b5b6 = L.marker(\n",
       "                [39.858001708984375, -104.66699981689453],\n",
       "                {}\n",
       "            ).addTo(map_f3863f310144ca2eddbd031158fd0396);\n",
       "        \n",
       "    \n",
       "            marker_9bf70b851b5d073ba0fb9210eee9b5b6.bindTooltip(\n",
       "                `&lt;div&gt;\n",
       "                     DEN\n",
       "                 &lt;/div&gt;`,\n",
       "                {&quot;sticky&quot;: true}\n",
       "            );\n",
       "        \n",
       "    \n",
       "            var circle_marker_3f14bb611d0c9662a59de49bb6d93ec5 = L.circleMarker(\n",
       "                [38.944000244140625, -77.45600128173828],\n",
       "                {&quot;bubblingMouseEvents&quot;: true, &quot;color&quot;: &quot;red&quot;, &quot;dashArray&quot;: null, &quot;dashOffset&quot;: null, &quot;fill&quot;: true, &quot;fillColor&quot;: &quot;red&quot;, &quot;fillOpacity&quot;: 0.7, &quot;fillRule&quot;: &quot;evenodd&quot;, &quot;lineCap&quot;: &quot;round&quot;, &quot;lineJoin&quot;: &quot;round&quot;, &quot;opacity&quot;: 1.0, &quot;radius&quot;: 22.08454, &quot;stroke&quot;: true, &quot;weight&quot;: 3}\n",
       "            ).addTo(map_f3863f310144ca2eddbd031158fd0396);\n",
       "        \n",
       "    \n",
       "            var marker_608c47ae6299f1b7f4d9ef03f415b118 = L.marker(\n",
       "                [38.944000244140625, -77.45600128173828],\n",
       "                {}\n",
       "            ).addTo(map_f3863f310144ca2eddbd031158fd0396);\n",
       "        \n",
       "    \n",
       "            marker_608c47ae6299f1b7f4d9ef03f415b118.bindTooltip(\n",
       "                `&lt;div&gt;\n",
       "                     IAD\n",
       "                 &lt;/div&gt;`,\n",
       "                {&quot;sticky&quot;: true}\n",
       "            );\n",
       "        \n",
       "    \n",
       "            var circle_marker_67f2405bbade4f954d7c911a8a21defa = L.circleMarker(\n",
       "                [35.2140007019043, -80.94300079345703],\n",
       "                {&quot;bubblingMouseEvents&quot;: true, &quot;color&quot;: &quot;red&quot;, &quot;dashArray&quot;: null, &quot;dashOffset&quot;: null, &quot;fill&quot;: true, &quot;fillColor&quot;: &quot;red&quot;, &quot;fillOpacity&quot;: 0.7, &quot;fillRule&quot;: &quot;evenodd&quot;, &quot;lineCap&quot;: &quot;round&quot;, &quot;lineJoin&quot;: &quot;round&quot;, &quot;opacity&quot;: 1.0, &quot;radius&quot;: 36.07632, &quot;stroke&quot;: true, &quot;weight&quot;: 3}\n",
       "            ).addTo(map_f3863f310144ca2eddbd031158fd0396);\n",
       "        \n",
       "    \n",
       "            var marker_a552814b63187a70d414dcdf77995719 = L.marker(\n",
       "                [35.2140007019043, -80.94300079345703],\n",
       "                {}\n",
       "            ).addTo(map_f3863f310144ca2eddbd031158fd0396);\n",
       "        \n",
       "    \n",
       "            marker_a552814b63187a70d414dcdf77995719.bindTooltip(\n",
       "                `&lt;div&gt;\n",
       "                     CLT\n",
       "                 &lt;/div&gt;`,\n",
       "                {&quot;sticky&quot;: true}\n",
       "            );\n",
       "        \n",
       "    \n",
       "            var circle_marker_4759f27c640974ff29448a04e33db4d2 = L.circleMarker(\n",
       "                [25.792999267578125, -80.29100036621094],\n",
       "                {&quot;bubblingMouseEvents&quot;: true, &quot;color&quot;: &quot;red&quot;, &quot;dashArray&quot;: null, &quot;dashOffset&quot;: null, &quot;fill&quot;: true, &quot;fillColor&quot;: &quot;red&quot;, &quot;fillOpacity&quot;: 0.7, &quot;fillRule&quot;: &quot;evenodd&quot;, &quot;lineCap&quot;: &quot;round&quot;, &quot;lineJoin&quot;: &quot;round&quot;, &quot;opacity&quot;: 1.0, &quot;radius&quot;: 34.0226, &quot;stroke&quot;: true, &quot;weight&quot;: 3}\n",
       "            ).addTo(map_f3863f310144ca2eddbd031158fd0396);\n",
       "        \n",
       "    \n",
       "            var marker_620c7b7ae35ea769e3199721bbb696fc = L.marker(\n",
       "                [25.792999267578125, -80.29100036621094],\n",
       "                {}\n",
       "            ).addTo(map_f3863f310144ca2eddbd031158fd0396);\n",
       "        \n",
       "    \n",
       "            marker_620c7b7ae35ea769e3199721bbb696fc.bindTooltip(\n",
       "                `&lt;div&gt;\n",
       "                     MIA\n",
       "                 &lt;/div&gt;`,\n",
       "                {&quot;sticky&quot;: true}\n",
       "            );\n",
       "        \n",
       "    \n",
       "            var circle_marker_75dca7297706dcaad108236af6ff9ae4 = L.circleMarker(\n",
       "                [32.895999908447266, -97.03700256347656],\n",
       "                {&quot;bubblingMouseEvents&quot;: true, &quot;color&quot;: &quot;red&quot;, &quot;dashArray&quot;: null, &quot;dashOffset&quot;: null, &quot;fill&quot;: true, &quot;fillColor&quot;: &quot;red&quot;, &quot;fillOpacity&quot;: 0.7, &quot;fillRule&quot;: &quot;evenodd&quot;, &quot;lineCap&quot;: &quot;round&quot;, &quot;lineJoin&quot;: &quot;round&quot;, &quot;opacity&quot;: 1.0, &quot;radius&quot;: 39.7152, &quot;stroke&quot;: true, &quot;weight&quot;: 3}\n",
       "            ).addTo(map_f3863f310144ca2eddbd031158fd0396);\n",
       "        \n",
       "    \n",
       "            var marker_915b20c62d07196d73a39cb95b24e320 = L.marker(\n",
       "                [32.895999908447266, -97.03700256347656],\n",
       "                {}\n",
       "            ).addTo(map_f3863f310144ca2eddbd031158fd0396);\n",
       "        \n",
       "    \n",
       "            marker_915b20c62d07196d73a39cb95b24e320.bindTooltip(\n",
       "                `&lt;div&gt;\n",
       "                     DFW\n",
       "                 &lt;/div&gt;`,\n",
       "                {&quot;sticky&quot;: true}\n",
       "            );\n",
       "        \n",
       "    \n",
       "            var circle_marker_fb40432b310f06cd98943fff99708e85 = L.circleMarker(\n",
       "                [37.61899948120117, -122.375],\n",
       "                {&quot;bubblingMouseEvents&quot;: true, &quot;color&quot;: &quot;red&quot;, &quot;dashArray&quot;: null, &quot;dashOffset&quot;: null, &quot;fill&quot;: true, &quot;fillColor&quot;: &quot;red&quot;, &quot;fillOpacity&quot;: 0.7, &quot;fillRule&quot;: &quot;evenodd&quot;, &quot;lineCap&quot;: &quot;round&quot;, &quot;lineJoin&quot;: &quot;round&quot;, &quot;opacity&quot;: 1.0, &quot;radius&quot;: 37.24136, &quot;stroke&quot;: true, &quot;weight&quot;: 3}\n",
       "            ).addTo(map_f3863f310144ca2eddbd031158fd0396);\n",
       "        \n",
       "    \n",
       "            var marker_26e86db45c67c8ac69de81ab3514bbf2 = L.marker(\n",
       "                [37.61899948120117, -122.375],\n",
       "                {}\n",
       "            ).addTo(map_f3863f310144ca2eddbd031158fd0396);\n",
       "        \n",
       "    \n",
       "            marker_26e86db45c67c8ac69de81ab3514bbf2.bindTooltip(\n",
       "                `&lt;div&gt;\n",
       "                     SFO\n",
       "                 &lt;/div&gt;`,\n",
       "                {&quot;sticky&quot;: true}\n",
       "            );\n",
       "        \n",
       "    \n",
       "            var circle_marker_31d990db433cefecf11157d6966dd259 = L.circleMarker(\n",
       "                [33.63999938964844, -84.427001953125],\n",
       "                {&quot;bubblingMouseEvents&quot;: true, &quot;color&quot;: &quot;red&quot;, &quot;dashArray&quot;: null, &quot;dashOffset&quot;: null, &quot;fill&quot;: true, &quot;fillColor&quot;: &quot;red&quot;, &quot;fillOpacity&quot;: 0.7, &quot;fillRule&quot;: &quot;evenodd&quot;, &quot;lineCap&quot;: &quot;round&quot;, &quot;lineJoin&quot;: &quot;round&quot;, &quot;opacity&quot;: 1.0, &quot;radius&quot;: 34.741126666666666, &quot;stroke&quot;: true, &quot;weight&quot;: 3}\n",
       "            ).addTo(map_f3863f310144ca2eddbd031158fd0396);\n",
       "        \n",
       "    \n",
       "            var marker_c02c27f2600d3f3a22d5b04fa705191b = L.marker(\n",
       "                [33.63999938964844, -84.427001953125],\n",
       "                {}\n",
       "            ).addTo(map_f3863f310144ca2eddbd031158fd0396);\n",
       "        \n",
       "    \n",
       "            marker_c02c27f2600d3f3a22d5b04fa705191b.bindTooltip(\n",
       "                `&lt;div&gt;\n",
       "                     ATL\n",
       "                 &lt;/div&gt;`,\n",
       "                {&quot;sticky&quot;: true}\n",
       "            );\n",
       "        \n",
       "    \n",
       "            var circle_marker_5b276d7aa5961fb6f2087dffc8301950 = L.circleMarker(\n",
       "                [41.979000091552734, -87.90399932861328],\n",
       "                {&quot;bubblingMouseEvents&quot;: true, &quot;color&quot;: &quot;red&quot;, &quot;dashArray&quot;: null, &quot;dashOffset&quot;: null, &quot;fill&quot;: true, &quot;fillColor&quot;: &quot;red&quot;, &quot;fillOpacity&quot;: 0.7, &quot;fillRule&quot;: &quot;evenodd&quot;, &quot;lineCap&quot;: &quot;round&quot;, &quot;lineJoin&quot;: &quot;round&quot;, &quot;opacity&quot;: 1.0, &quot;radius&quot;: 38.11799333333333, &quot;stroke&quot;: true, &quot;weight&quot;: 3}\n",
       "            ).addTo(map_f3863f310144ca2eddbd031158fd0396);\n",
       "        \n",
       "    \n",
       "            var marker_ba92b000a6635c218055608aa9d832af = L.marker(\n",
       "                [41.979000091552734, -87.90399932861328],\n",
       "                {}\n",
       "            ).addTo(map_f3863f310144ca2eddbd031158fd0396);\n",
       "        \n",
       "    \n",
       "            marker_ba92b000a6635c218055608aa9d832af.bindTooltip(\n",
       "                `&lt;div&gt;\n",
       "                     ORD\n",
       "                 &lt;/div&gt;`,\n",
       "                {&quot;sticky&quot;: true}\n",
       "            );\n",
       "        \n",
       "    \n",
       "            var circle_marker_5026420e4a74409990846ae6d7547cd4 = L.circleMarker(\n",
       "                [42.21200180053711, -83.35299682617188],\n",
       "                {&quot;bubblingMouseEvents&quot;: true, &quot;color&quot;: &quot;red&quot;, &quot;dashArray&quot;: null, &quot;dashOffset&quot;: null, &quot;fill&quot;: true, &quot;fillColor&quot;: &quot;red&quot;, &quot;fillOpacity&quot;: 0.7, &quot;fillRule&quot;: &quot;evenodd&quot;, &quot;lineCap&quot;: &quot;round&quot;, &quot;lineJoin&quot;: &quot;round&quot;, &quot;opacity&quot;: 1.0, &quot;radius&quot;: 29.70846, &quot;stroke&quot;: true, &quot;weight&quot;: 3}\n",
       "            ).addTo(map_f3863f310144ca2eddbd031158fd0396);\n",
       "        \n",
       "    \n",
       "            var marker_c3d07d7155b2d291c729169859a4faaa = L.marker(\n",
       "                [42.21200180053711, -83.35299682617188],\n",
       "                {}\n",
       "            ).addTo(map_f3863f310144ca2eddbd031158fd0396);\n",
       "        \n",
       "    \n",
       "            marker_c3d07d7155b2d291c729169859a4faaa.bindTooltip(\n",
       "                `&lt;div&gt;\n",
       "                     DTW\n",
       "                 &lt;/div&gt;`,\n",
       "                {&quot;sticky&quot;: true}\n",
       "            );\n",
       "        \n",
       "    \n",
       "            var circle_marker_84c1fa23f810581ab29380ed8566a0ba = L.circleMarker(\n",
       "                [33.94200134277344, -118.40799713134766],\n",
       "                {&quot;bubblingMouseEvents&quot;: true, &quot;color&quot;: &quot;red&quot;, &quot;dashArray&quot;: null, &quot;dashOffset&quot;: null, &quot;fill&quot;: true, &quot;fillColor&quot;: &quot;red&quot;, &quot;fillOpacity&quot;: 0.7, &quot;fillRule&quot;: &quot;evenodd&quot;, &quot;lineCap&quot;: &quot;round&quot;, &quot;lineJoin&quot;: &quot;round&quot;, &quot;opacity&quot;: 1.0, &quot;radius&quot;: 53.37814, &quot;stroke&quot;: true, &quot;weight&quot;: 3}\n",
       "            ).addTo(map_f3863f310144ca2eddbd031158fd0396);\n",
       "        \n",
       "    \n",
       "            var marker_152ea9cbe238ec16e28bc88511eb44e7 = L.marker(\n",
       "                [33.94200134277344, -118.40799713134766],\n",
       "                {}\n",
       "            ).addTo(map_f3863f310144ca2eddbd031158fd0396);\n",
       "        \n",
       "    \n",
       "            marker_152ea9cbe238ec16e28bc88511eb44e7.bindTooltip(\n",
       "                `&lt;div&gt;\n",
       "                     LAX\n",
       "                 &lt;/div&gt;`,\n",
       "                {&quot;sticky&quot;: true}\n",
       "            );\n",
       "        \n",
       "    \n",
       "            var circle_marker_12012b0c7653d4be380c1fcd4f9dfe0d = L.circleMarker(\n",
       "                [40.63999938964844, -73.77899932861328],\n",
       "                {&quot;bubblingMouseEvents&quot;: true, &quot;color&quot;: &quot;red&quot;, &quot;dashArray&quot;: null, &quot;dashOffset&quot;: null, &quot;fill&quot;: true, &quot;fillColor&quot;: &quot;red&quot;, &quot;fillOpacity&quot;: 0.7, &quot;fillRule&quot;: &quot;evenodd&quot;, &quot;lineCap&quot;: &quot;round&quot;, &quot;lineJoin&quot;: &quot;round&quot;, &quot;opacity&quot;: 1.0, &quot;radius&quot;: 29.4251, &quot;stroke&quot;: true, &quot;weight&quot;: 3}\n",
       "            ).addTo(map_f3863f310144ca2eddbd031158fd0396);\n",
       "        \n",
       "    \n",
       "            var marker_3c4bd2e286dce515c7595aba6c45f248 = L.marker(\n",
       "                [40.63999938964844, -73.77899932861328],\n",
       "                {}\n",
       "            ).addTo(map_f3863f310144ca2eddbd031158fd0396);\n",
       "        \n",
       "    \n",
       "            marker_3c4bd2e286dce515c7595aba6c45f248.bindTooltip(\n",
       "                `&lt;div&gt;\n",
       "                     JFK\n",
       "                 &lt;/div&gt;`,\n",
       "                {&quot;sticky&quot;: true}\n",
       "            );\n",
       "        \n",
       "    \n",
       "            var circle_marker_cc66d6264f7007b1e638f603e42c4dbf = L.circleMarker(\n",
       "                [39.87200164794922, -75.24099731445312],\n",
       "                {&quot;bubblingMouseEvents&quot;: true, &quot;color&quot;: &quot;red&quot;, &quot;dashArray&quot;: null, &quot;dashOffset&quot;: null, &quot;fill&quot;: true, &quot;fillColor&quot;: &quot;red&quot;, &quot;fillOpacity&quot;: 0.7, &quot;fillRule&quot;: &quot;evenodd&quot;, &quot;lineCap&quot;: &quot;round&quot;, &quot;lineJoin&quot;: &quot;round&quot;, &quot;opacity&quot;: 1.0, &quot;radius&quot;: 31.358813333333334, &quot;stroke&quot;: true, &quot;weight&quot;: 3}\n",
       "            ).addTo(map_f3863f310144ca2eddbd031158fd0396);\n",
       "        \n",
       "    \n",
       "            var marker_77d5d2b880048eb9121459a38f5bfcaf = L.marker(\n",
       "                [39.87200164794922, -75.24099731445312],\n",
       "                {}\n",
       "            ).addTo(map_f3863f310144ca2eddbd031158fd0396);\n",
       "        \n",
       "    \n",
       "            marker_77d5d2b880048eb9121459a38f5bfcaf.bindTooltip(\n",
       "                `&lt;div&gt;\n",
       "                     PHL\n",
       "                 &lt;/div&gt;`,\n",
       "                {&quot;sticky&quot;: true}\n",
       "            );\n",
       "        \n",
       "&lt;/script&gt;\n",
       "&lt;/html&gt;\" style=\"position:absolute;width:100%;height:100%;left:0;top:0;border:none !important;\" allowfullscreen webkitallowfullscreen mozallowfullscreen></iframe></div></div>"
      ],
      "text/plain": [
       "<folium.folium.Map at 0x7f4cd7293c70>"
      ]
     },
     "execution_count": 9,
     "metadata": {},
     "output_type": "execute_result"
    }
   ],
   "source": [
    "import folium\n",
    "import folium.plugins as plugins\n",
    "\n",
    "center_location = [39.8283, -98.5795]\n",
    "zoom_level = 4\n",
    "m = folium.Map(location=center_location, zoom_start=zoom_level)\n",
    "\n",
    "# Define label\n",
    "departure_color = 'blue'\n",
    "destination_color = 'red'\n",
    "\n",
    "# Add markers to the map for the departure airports\n",
    "for index, row in departure_airport_data_pd.iterrows():\n",
    "    count = row['count']\n",
    "    airport_code = row['airportCode']\n",
    "    airport_name = row['airportCode']\n",
    "    latitude = row['latitude']\n",
    "    longitude = row['longitude']\n",
    "    radius=row['count']/150000\n",
    "    folium.CircleMarker(location=[latitude, longitude], radius=radius, color=departure_color, fill_color=departure_color, fill_opacity=0.7).add_to(m)\n",
    "    folium.Marker(location=[latitude, longitude], tooltip=airport_name, icon=None).add_to(m)\n",
    "\n",
    "# Add markers to the map for the destination airports\n",
    "for index, row in destination_airport_data_pd.iterrows():\n",
    "    count = row['count']\n",
    "    airport_code = row['airportCode']\n",
    "    airport_name = row['airportCode']\n",
    "    latitude = row['latitude']\n",
    "    longitude = row['longitude']\n",
    "    radius=row['count']/150000\n",
    "    folium.CircleMarker(location=[latitude, longitude], radius=radius, color=destination_color, fill_color=destination_color, fill_opacity=0.7).add_to(m)\n",
    "    folium.Marker(location=[latitude, longitude], tooltip=airport_name, icon=None).add_to(m)\n",
    "\n",
    "# Display the map\n",
    "m"
   ]
  },
  {
   "cell_type": "markdown",
   "id": "d8d69ea4-8912-4549-8c4d-2789b12cb405",
   "metadata": {
    "id": "d8d69ea4-8912-4549-8c4d-2789b12cb405"
   },
   "source": [
    "After analyzing the data we collected, a comprehensive map was created which showcases the most commonly used airports across all of mainland USA. From this map it appears that travelers in Bay Area frequent **LAX, SFO and OAK** as their go-to airports for travel purposes. However, on the other side of America along with Central American countries like **EWR, PHL, BOS, LGA, JFK and IAD** are more popular amongst people's choice for air travels based on high volume footfall recorded at these hubs. Similarly further southward towards central America large amounts passengers opt to navigate through **CLT, ATL, DTW, ORD, DFT or DEN airport terminals** when they have flights to catch.Lastly down Southwards around **MIA** region majority airlines is found landing there being favored by many travellers ."
   ]
  },
  {
   "cell_type": "markdown",
   "id": "ae892128-5ba4-419f-8362-bc9e67b1695f",
   "metadata": {
    "id": "ae892128-5ba4-419f-8362-bc9e67b1695f"
   },
   "source": [
    "## B. Travel Time"
   ]
  },
  {
   "cell_type": "markdown",
   "id": "8c70993d-cfee-47be-98ae-76c0c959967f",
   "metadata": {
    "id": "8c70993d-cfee-47be-98ae-76c0c959967f"
   },
   "source": [
    "### Flight per day"
   ]
  },
  {
   "cell_type": "code",
   "execution_count": null,
   "id": "90147b74-e0bb-4bbd-ad7c-a035ca19df6c",
   "metadata": {
    "id": "90147b74-e0bb-4bbd-ad7c-a035ca19df6c"
   },
   "outputs": [],
   "source": [
    "from pyspark.sql.functions import year\n",
    "\n",
    "# assuming you have a SparkSession called 'spark' and a DataFrame called 'df' with a time variable column called 'timestamp'\n",
    "year_to_filter = 2022\n",
    "\n",
    "filtered_df = data.filter(year(data.flightDate) == year_to_filter)"
   ]
  },
  {
   "cell_type": "code",
   "execution_count": null,
   "id": "d6ee224c-83ef-4e34-b9d9-0e487ec11024",
   "metadata": {
    "id": "d6ee224c-83ef-4e34-b9d9-0e487ec11024",
    "outputId": "b754620f-a357-4364-b755-0baa54c73d0e"
   },
   "outputs": [
    {
     "name": "stderr",
     "output_type": "stream",
     "text": [
      "                                                                                \r"
     ]
    },
    {
     "data": {
      "text/html": [
       "<div>\n",
       "<style scoped>\n",
       "    .dataframe tbody tr th:only-of-type {\n",
       "        vertical-align: middle;\n",
       "    }\n",
       "\n",
       "    .dataframe tbody tr th {\n",
       "        vertical-align: top;\n",
       "    }\n",
       "\n",
       "    .dataframe thead th {\n",
       "        text-align: right;\n",
       "    }\n",
       "</style>\n",
       "<table border=\"1\" class=\"dataframe\">\n",
       "  <thead>\n",
       "    <tr style=\"text-align: right;\">\n",
       "      <th></th>\n",
       "      <th>Date</th>\n",
       "      <th>flight_count</th>\n",
       "    </tr>\n",
       "  </thead>\n",
       "  <tbody>\n",
       "    <tr>\n",
       "      <th>0</th>\n",
       "      <td>2022-04</td>\n",
       "      <td>918956</td>\n",
       "    </tr>\n",
       "    <tr>\n",
       "      <th>1</th>\n",
       "      <td>2022-05</td>\n",
       "      <td>7440297</td>\n",
       "    </tr>\n",
       "    <tr>\n",
       "      <th>2</th>\n",
       "      <td>2022-06</td>\n",
       "      <td>11774933</td>\n",
       "    </tr>\n",
       "    <tr>\n",
       "      <th>3</th>\n",
       "      <td>2022-07</td>\n",
       "      <td>13492890</td>\n",
       "    </tr>\n",
       "    <tr>\n",
       "      <th>4</th>\n",
       "      <td>2022-08</td>\n",
       "      <td>17678497</td>\n",
       "    </tr>\n",
       "  </tbody>\n",
       "</table>\n",
       "</div>"
      ],
      "text/plain": [
       "      Date  flight_count\n",
       "0  2022-04        918956\n",
       "1  2022-05       7440297\n",
       "2  2022-06      11774933\n",
       "3  2022-07      13492890\n",
       "4  2022-08      17678497"
      ]
     },
     "execution_count": 10,
     "metadata": {},
     "output_type": "execute_result"
    }
   ],
   "source": [
    "flight_per_month = data.groupBy(F.date_format(F.col(\"flightDate\"), 'yyyy-MM').alias(\"Date\")).agg(F.count(\"legId\").alias(\"flight_count\")).orderBy(\"Date\")\n",
    "\n",
    "# Convert to Pandas\n",
    "py_flights_per_month = flight_per_month.toPandas()\n",
    "py_flights_per_month.head()"
   ]
  },
  {
   "cell_type": "markdown",
   "id": "47a785f4-e414-4c90-8edb-6dfb1c2a434b",
   "metadata": {
    "id": "47a785f4-e414-4c90-8edb-6dfb1c2a434b"
   },
   "source": [
    "We can see that July, August, September have the highest number of flights. This may be because Summer vacation usually falls in that time span."
   ]
  },
  {
   "cell_type": "code",
   "execution_count": null,
   "id": "d4d7aa2d-ee8e-487f-9c93-8eb50665fac7",
   "metadata": {
    "id": "d4d7aa2d-ee8e-487f-9c93-8eb50665fac7",
    "outputId": "d911d476-61e1-4c4d-948b-89446b8517d5"
   },
   "outputs": [
    {
     "name": "stderr",
     "output_type": "stream",
     "text": [
      "                                                                                \r"
     ]
    },
    {
     "data": {
      "text/plain": [
       "Row(date='2022-08-30', count=729117)"
      ]
     },
     "execution_count": 5,
     "metadata": {},
     "output_type": "execute_result"
    }
   ],
   "source": [
    "from pyspark.sql.functions import date_format\n",
    "\n",
    "from pyspark.sql.functions import desc\n",
    "\n",
    "# assuming you have a SparkSession called 'spark' and a DataFrame called 'df' with a date column called 'date_column'\n",
    "groupedate = data.groupBy(date_format(data.flightDate, 'yyyy-MM-dd').alias('date')).count().orderBy(desc('count'))\n",
    "\n",
    "groupedate.head()"
   ]
  },
  {
   "cell_type": "code",
   "execution_count": null,
   "id": "695c1cd6-7d8e-4eb9-8ce9-2fd6596736bb",
   "metadata": {
    "id": "695c1cd6-7d8e-4eb9-8ce9-2fd6596736bb",
    "outputId": "9d3178c8-be83-4828-c218-837eafdb6f01"
   },
   "outputs": [
    {
     "name": "stderr",
     "output_type": "stream",
     "text": [
      "[Stage 12:=====================================================>(231 + 1) / 232]\r"
     ]
    },
    {
     "name": "stdout",
     "output_type": "stream",
     "text": [
      "+----------+------+\n",
      "|      date| count|\n",
      "+----------+------+\n",
      "|2022-08-30|729117|\n",
      "|2022-09-07|695010|\n",
      "|2022-09-13|690912|\n",
      "|2022-09-08|671131|\n",
      "|2022-08-31|667996|\n",
      "|2022-08-23|666408|\n",
      "|2022-08-24|658937|\n",
      "|2022-09-20|655025|\n",
      "|2022-08-29|654670|\n",
      "|2022-09-14|636895|\n",
      "|2022-10-04|632812|\n",
      "|2022-09-09|629272|\n",
      "|2022-08-25|624789|\n",
      "|2022-08-09|624201|\n",
      "|2022-08-26|623255|\n",
      "|2022-09-06|613194|\n",
      "|2022-09-21|612786|\n",
      "|2022-09-27|612244|\n",
      "|2022-09-01|611926|\n",
      "|2022-09-12|608266|\n",
      "+----------+------+\n",
      "only showing top 20 rows\n",
      "\n"
     ]
    },
    {
     "name": "stderr",
     "output_type": "stream",
     "text": [
      "                                                                                \r"
     ]
    }
   ],
   "source": [
    "groupedate.show()"
   ]
  },
  {
   "cell_type": "code",
   "execution_count": null,
   "id": "4105d166-27fc-4694-9da8-2afb112e448c",
   "metadata": {
    "id": "4105d166-27fc-4694-9da8-2afb112e448c",
    "outputId": "437ed909-bac4-4c35-e534-de3d28b566cb"
   },
   "outputs": [
    {
     "name": "stderr",
     "output_type": "stream",
     "text": [
      "                                                                                \r"
     ]
    }
   ],
   "source": [
    "from pyspark.sql.functions import date_format\n",
    "\n",
    "from pyspark.sql.functions import desc\n",
    "groupdate = data.groupBy(date_format(data.flightDate, 'yyyy-MM-dd').alias('date')).count()\n",
    "flights_per_day = groupdate.toPandas()"
   ]
  },
  {
   "cell_type": "code",
   "execution_count": null,
   "id": "b40ea220-de61-46ca-a98a-c94e4b839123",
   "metadata": {
    "id": "b40ea220-de61-46ca-a98a-c94e4b839123",
    "outputId": "d4abaed3-b2d5-450f-ab6c-cd7e338dedb4"
   },
   "outputs": [
    {
     "name": "stderr",
     "output_type": "stream",
     "text": [
      "                                                                                \r"
     ]
    }
   ],
   "source": [
    "data_week = data.withColumn('week', F.weekofyear('flightDate'))\n",
    "\n",
    "groupweek = data_week.groupBy('week').count()\n",
    "flights_per_week = groupweek.toPandas()"
   ]
  },
  {
   "cell_type": "code",
   "execution_count": null,
   "id": "3d97367c-fe62-48d8-bc42-09137419bc14",
   "metadata": {
    "id": "3d97367c-fe62-48d8-bc42-09137419bc14"
   },
   "outputs": [],
   "source": [
    "plt.style.use('ggplot')"
   ]
  },
  {
   "cell_type": "code",
   "execution_count": null,
   "id": "1a17daad-dcd4-45d8-8e4d-151a63296bf4",
   "metadata": {
    "id": "1a17daad-dcd4-45d8-8e4d-151a63296bf4",
    "outputId": "2c3e5622-da0b-43dd-9461-55faadd79545"
   },
   "outputs": [
    {
     "data": {
      "text/plain": [
       "''"
      ]
     },
     "execution_count": 41,
     "metadata": {},
     "output_type": "execute_result"
    },
    {
     "data": {
      "image/png": "[encoded data removed]",
      "text/plain": [
       "<Figure size 640x480 with 1 Axes>"
      ]
     },
     "metadata": {},
     "output_type": "display_data"
    },
    {
     "data": {
      "image/png": "[encoded data removed]",
      "text/plain": [
       "<Figure size 640x480 with 1 Axes>"
      ]
     },
     "metadata": {},
     "output_type": "display_data"
    }
   ],
   "source": [
    "df.plot.bar(color=(0.1, 0.1, 0.1, 0.1),  edgecolor='red')\n",
    "plt.xticks(rotation=45)\n",
    "plt.ylabel(\"Number of Flights\", fontsize = 12)\n",
    "plt.xlabel(\"Month\", fontsize = 12)\n",
    "plt.title('Number of Flights per Month')\n",
    "plt.legend([\"Number of flights\"])\n",
    "\n",
    "df2 = flights_per_day.set_index('date')\n",
    "df2.plot.line()\n",
    "\n",
    "plt.ylabel(\"Number of Flights\", fontsize = 14)\n",
    "plt.title('Number of Flights per Day')\n",
    "plt.grid(True)\n",
    "plt.legend([\"Number of flights\"])\n",
    ";"
   ]
  },
  {
   "cell_type": "markdown",
   "id": "eKL4YOj8xGRy",
   "metadata": {
    "id": "eKL4YOj8xGRy"
   },
   "source": [
    "Based on the graph of flights per day and flights per month,we saw a seasonal trend of total number of flights within a month.The local peaks of flights occurs on weekends and then started to decrease. August and September has the highest number of flights in a year suggesting that vacation days has a higher volume of flights nationwide."
   ]
  },
  {
   "cell_type": "markdown",
   "id": "70f45a88-d024-40ee-bc8a-d41590371e94",
   "metadata": {
    "id": "70f45a88-d024-40ee-bc8a-d41590371e94"
   },
   "source": [
    "### Weekend vs. weekday"
   ]
  },
  {
   "cell_type": "code",
   "execution_count": null,
   "id": "f0e983ed-0ee8-4bb1-9364-6f0d923ae739",
   "metadata": {
    "id": "f0e983ed-0ee8-4bb1-9364-6f0d923ae739"
   },
   "outputs": [],
   "source": [
    "from pyspark.sql.functions import dayofweek\n",
    "\n",
    "data_week = data_week.withColumn(\"is_weekend\", dayofweek(\"flightDate\").isin([1,7]).cast(\"int\"))"
   ]
  },
  {
   "cell_type": "code",
   "execution_count": null,
   "id": "c20d12df-d4f1-48f6-8f61-5f17ac91b026",
   "metadata": {
    "id": "c20d12df-d4f1-48f6-8f61-5f17ac91b026",
    "outputId": "5f57ee9b-49e9-4ede-a527-1e0932d4b3aa"
   },
   "outputs": [
    {
     "name": "stderr",
     "output_type": "stream",
     "text": [
      "23/04/02 20:20:19 WARN package: Truncated the string representation of a plan since it was too large. This behavior can be adjusted by setting 'spark.sql.debug.maxToStringFields'.\n",
      "[Stage 14:>                                                         (0 + 1) / 1]\r"
     ]
    },
    {
     "name": "stdout",
     "output_type": "stream",
     "text": [
      "+--------------------+----------+----------+---------------+------------------+-------------+--------------+-----------+--------------+------------+---------+--------+---------+--------------+-------------------+---------------------------------+------------------------+-------------------------------+----------------------+--------------------------+----------------------------+--------------------+-------------------+----------------------------+-------------------------+----------------+-----------------+----+----------+\n",
      "|               legId|searchDate|flightDate|startingAirport|destinationAirport|fareBasisCode|travelDuration|elapsedDays|isBasicEconomy|isRefundable|isNonStop|baseFare|totalFare|seatsRemaining|totalTravelDistance|segmentsDepartureTimeEpochSeconds|segmentsDepartureTimeRaw|segmentsArrivalTimeEpochSeconds|segmentsArrivalTimeRaw|segmentsArrivalAirportCode|segmentsDepartureAirportCode| segmentsAirlineName|segmentsAirlineCode|segmentsEquipmentDescription|segmentsDurationInSeconds|segmentsDistance|segmentsCabinCode|week|is_weekend|\n",
      "+--------------------+----------+----------+---------------+------------------+-------------+--------------+-----------+--------------+------------+---------+--------+---------+--------------+-------------------+---------------------------------+------------------------+-------------------------------+----------------------+--------------------------+----------------------------+--------------------+-------------------+----------------------------+-------------------------+----------------+-----------------+----+----------+\n",
      "|9ca0e81111c683bec...|2022-04-16|2022-04-17|            ATL|               BOS|     LA0NX0MC|       PT2H29M|          0|         false|       false|     true|  217.67|    248.6|             9|                947|                       1650214620|     2022-04-17 16:57:00|                     1650223560|   2022-04-17 19:26:00|                       BOS|                         ATL|               Delta|                 DL|                 Airbus A321|                     8940|             947|            coach|  15|         1|\n",
      "|98685953630e772a0...|2022-04-16|2022-04-17|            ATL|               BOS|     LA0NX0MC|       PT2H30M|          0|         false|       false|     true|  217.67|    248.6|             4|                947|                       1650191400|     2022-04-17 10:30:00|                     1650200400|   2022-04-17 13:00:00|                       BOS|                         ATL|               Delta|                 DL|                 Airbus A321|                     9000|             947|            coach|  15|         1|\n",
      "|98d90cbc32bfbb05c...|2022-04-16|2022-04-17|            ATL|               BOS|     LA0NX0MC|       PT2H30M|          0|         false|       false|     true|  217.67|    248.6|             9|                947|                       1650209700|     2022-04-17 15:35:00|                     1650218700|   2022-04-17 18:05:00|                       BOS|                         ATL|               Delta|                 DL|              Boeing 757-200|                     9000|             947|            coach|  15|         1|\n",
      "|969a269d38eae583f...|2022-04-16|2022-04-17|            ATL|               BOS|     LA0NX0MC|       PT2H32M|          0|         false|       false|     true|  217.67|    248.6|             8|                947|                       1650218340|     2022-04-17 17:59:00|                     1650227460|   2022-04-17 20:31:00|                       BOS|                         ATL|               Delta|                 DL|                 Airbus A321|                     9120|             947|            coach|  15|         1|\n",
      "|980370cf27c89b40d...|2022-04-16|2022-04-17|            ATL|               BOS|     LA0NX0MC|       PT2H34M|          0|         false|       false|     true|  217.67|    248.6|             9|                947|                       1650203940|     2022-04-17 13:59:00|                     1650213180|   2022-04-17 16:33:00|                       BOS|                         ATL|               Delta|                 DL|                 Airbus A321|                     9240|             947|            coach|  15|         1|\n",
      "|79eda9f841e226a1e...|2022-04-16|2022-04-17|            ATL|               BOS|     VH0AUEL1|       PT2H38M|          0|         false|       false|     true|  217.67|    248.6|             7|                947|                       1650206700|     2022-04-17 14:45:00|                     1650216180|   2022-04-17 17:23:00|                       BOS|                         ATL|     JetBlue Airways|                 B6|                        null|                     9480|             947|            coach|  15|         1|\n",
      "|9335fae376c38bb61...|2022-04-16|2022-04-17|            ATL|               BOS|     V0AJZNN1|       PT4H12M|          0|         false|       false|    false|  213.02|    251.1|             3|                956|                             null|                    null|                           null|                  null|                  CLT||BOS|                    ATL||CLT|American Airlines...|             AA||AA|        Airbus A320||Airb...|                     null|            null|     coach||coach|  15|         1|\n",
      "|3904bf87f2d1daf33...|2022-04-16|2022-04-17|            ATL|               BOS|     V0AJZNN1|       PT5H18M|          0|         false|       false|    false|  213.02|    251.1|             3|                956|                             null|                    null|                           null|                  null|                  CLT||BOS|                    ATL||CLT|American Airlines...|             AA||AA|        Airbus A320||Boei...|                     null|            null|     coach||coach|  15|         1|\n",
      "|d93988734c44a3c07...|2022-04-16|2022-04-17|            ATL|               BOS|     V0AJZNN1|       PT5H32M|          0|         false|       false|    false|  213.02|    251.1|             7|                956|                             null|                    null|                           null|                  null|                  CLT||BOS|                    ATL||CLT|American Airlines...|             AA||AA|        Airbus A319||Airb...|                     null|            null|     coach||coach|  15|         1|\n",
      "|562e7d5dd6ecbf150...|2022-04-16|2022-04-17|            ATL|               BOS|     V0AJZNN1|       PT6H38M|          0|         false|       false|    false|  213.02|    251.1|             7|                956|                             null|                    null|                           null|                  null|                  CLT||BOS|                    ATL||CLT|American Airlines...|             AA||AA|        Airbus A319||Boei...|                     null|            null|     coach||coach|  15|         1|\n",
      "+--------------------+----------+----------+---------------+------------------+-------------+--------------+-----------+--------------+------------+---------+--------+---------+--------------+-------------------+---------------------------------+------------------------+-------------------------------+----------------------+--------------------------+----------------------------+--------------------+-------------------+----------------------------+-------------------------+----------------+-----------------+----+----------+\n",
      "only showing top 10 rows\n",
      "\n"
     ]
    },
    {
     "name": "stderr",
     "output_type": "stream",
     "text": [
      "                                                                                \r"
     ]
    }
   ],
   "source": [
    "data_week.show(10)"
   ]
  },
  {
   "cell_type": "code",
   "execution_count": null,
   "id": "7debc65b-8e23-4a73-8b97-7a4b6af12e52",
   "metadata": {
    "id": "7debc65b-8e23-4a73-8b97-7a4b6af12e52",
    "outputId": "da7fb38a-b1a8-493c-8f3a-712746aa8f77"
   },
   "outputs": [
    {
     "name": "stderr",
     "output_type": "stream",
     "text": [
      "                                                                                \r"
     ]
    }
   ],
   "source": [
    "groupend = data_week.groupBy('is_weekend').count()\n",
    "flights_weekend = groupend.toPandas()"
   ]
  },
  {
   "cell_type": "code",
   "execution_count": null,
   "id": "0bc72986-1c52-43f1-851e-43620f963638",
   "metadata": {
    "id": "0bc72986-1c52-43f1-851e-43620f963638",
    "outputId": "6ab944ad-56db-4d7e-f1ce-e77a1ed77bfc"
   },
   "outputs": [
    {
     "data": {
      "text/html": [
       "<div>\n",
       "<style scoped>\n",
       "    .dataframe tbody tr th:only-of-type {\n",
       "        vertical-align: middle;\n",
       "    }\n",
       "\n",
       "    .dataframe tbody tr th {\n",
       "        vertical-align: top;\n",
       "    }\n",
       "\n",
       "    .dataframe thead th {\n",
       "        text-align: right;\n",
       "    }\n",
       "</style>\n",
       "<table border=\"1\" class=\"dataframe\">\n",
       "  <thead>\n",
       "    <tr style=\"text-align: right;\">\n",
       "      <th></th>\n",
       "      <th>is_weekend</th>\n",
       "      <th>count</th>\n",
       "    </tr>\n",
       "  </thead>\n",
       "  <tbody>\n",
       "    <tr>\n",
       "      <th>0</th>\n",
       "      <td>1</td>\n",
       "      <td>21043976</td>\n",
       "    </tr>\n",
       "    <tr>\n",
       "      <th>1</th>\n",
       "      <td>0</td>\n",
       "      <td>61094777</td>\n",
       "    </tr>\n",
       "  </tbody>\n",
       "</table>\n",
       "</div>"
      ],
      "text/plain": [
       "   is_weekend     count\n",
       "0           1  21043976\n",
       "1           0  61094777"
      ]
     },
     "execution_count": 28,
     "metadata": {},
     "output_type": "execute_result"
    }
   ],
   "source": [
    "flights_weekend"
   ]
  },
  {
   "cell_type": "code",
   "execution_count": null,
   "id": "6289740b-848a-4015-b067-4e904c972ff8",
   "metadata": {
    "id": "6289740b-848a-4015-b067-4e904c972ff8",
    "outputId": "cdc0cb97-750d-4874-86bf-85aaec47cc63"
   },
   "outputs": [
    {
     "data": {
      "image/png": "[encoded data removed]",
      "text/plain": [
       "<Figure size 640x480 with 1 Axes>"
      ]
     },
     "metadata": {},
     "output_type": "display_data"
    }
   ],
   "source": [
    "import matplotlib.pyplot as plt\n",
    "\n",
    "plt.pie(flights_weekend['count'],  autopct='%1.1f%%')\n",
    "\n",
    "plt.title('Proportion of Weekdays & Weekend Flights')\n",
    "\n",
    "plt.legend([\"Weekend Flights\",'Weekday Flights']);\n",
    "# Show the pie chart\n",
    "plt.show()"
   ]
  },
  {
   "cell_type": "markdown",
   "id": "2de4ec27-de55-4188-82c6-07253e4039b9",
   "metadata": {
    "id": "2de4ec27-de55-4188-82c6-07253e4039b9"
   },
   "source": [
    "According to the pie chart its clear that there are 25.6% flight bookings in the dataset that are on a weekend, while the second row shows that there are 74.4% flight bookings that are not on a weekend. This suggests that a significant portion of the flight bookings in the dataset are for weekend travel."
   ]
  },
  {
   "cell_type": "markdown",
   "id": "f4f06f15-8be8-41fa-b7dd-22dc0f08e114",
   "metadata": {
    "id": "f4f06f15-8be8-41fa-b7dd-22dc0f08e114",
    "tags": []
   },
   "source": [
    "## C. Travel Experience"
   ]
  },
  {
   "cell_type": "code",
   "execution_count": null,
   "id": "c29e19f5-7052-4ef0-a2ac-3e2757d4c067",
   "metadata": {
    "id": "c29e19f5-7052-4ef0-a2ac-3e2757d4c067",
    "outputId": "2f102ce6-8827-4dc4-acae-ab3b8e97e6a4"
   },
   "outputs": [
    {
     "name": "stderr",
     "output_type": "stream",
     "text": [
      "                                                                                \r"
     ]
    },
    {
     "data": {
      "text/html": [
       "<div>\n",
       "<style scoped>\n",
       "    .dataframe tbody tr th:only-of-type {\n",
       "        vertical-align: middle;\n",
       "    }\n",
       "\n",
       "    .dataframe tbody tr th {\n",
       "        vertical-align: top;\n",
       "    }\n",
       "\n",
       "    .dataframe thead th {\n",
       "        text-align: right;\n",
       "    }\n",
       "</style>\n",
       "<table border=\"1\" class=\"dataframe\">\n",
       "  <thead>\n",
       "    <tr style=\"text-align: right;\">\n",
       "      <th></th>\n",
       "      <th>segmentsAirlineName</th>\n",
       "      <th>tol_tickets</th>\n",
       "    </tr>\n",
       "  </thead>\n",
       "  <tbody>\n",
       "    <tr>\n",
       "      <th>0</th>\n",
       "      <td>American Airlines||American Airlines</td>\n",
       "      <td>16296340</td>\n",
       "    </tr>\n",
       "    <tr>\n",
       "      <th>1</th>\n",
       "      <td>Delta||Delta</td>\n",
       "      <td>11351669</td>\n",
       "    </tr>\n",
       "    <tr>\n",
       "      <th>2</th>\n",
       "      <td>United||United</td>\n",
       "      <td>10217320</td>\n",
       "    </tr>\n",
       "    <tr>\n",
       "      <th>3</th>\n",
       "      <td>American Airlines</td>\n",
       "      <td>7453245</td>\n",
       "    </tr>\n",
       "    <tr>\n",
       "      <th>4</th>\n",
       "      <td>Delta</td>\n",
       "      <td>4855169</td>\n",
       "    </tr>\n",
       "    <tr>\n",
       "      <th>5</th>\n",
       "      <td>United</td>\n",
       "      <td>4531426</td>\n",
       "    </tr>\n",
       "    <tr>\n",
       "      <th>6</th>\n",
       "      <td>Spirit Airlines||Spirit Airlines</td>\n",
       "      <td>4215514</td>\n",
       "    </tr>\n",
       "    <tr>\n",
       "      <th>7</th>\n",
       "      <td>JetBlue Airways</td>\n",
       "      <td>3578393</td>\n",
       "    </tr>\n",
       "    <tr>\n",
       "      <th>8</th>\n",
       "      <td>JetBlue Airways||JetBlue Airways</td>\n",
       "      <td>3129646</td>\n",
       "    </tr>\n",
       "    <tr>\n",
       "      <th>9</th>\n",
       "      <td>Alaska Airlines||Alaska Airlines</td>\n",
       "      <td>1777996</td>\n",
       "    </tr>\n",
       "  </tbody>\n",
       "</table>\n",
       "</div>"
      ],
      "text/plain": [
       "                    segmentsAirlineName  tol_tickets\n",
       "0  American Airlines||American Airlines     16296340\n",
       "1                          Delta||Delta     11351669\n",
       "2                        United||United     10217320\n",
       "3                     American Airlines      7453245\n",
       "4                                 Delta      4855169\n",
       "5                                United      4531426\n",
       "6      Spirit Airlines||Spirit Airlines      4215514\n",
       "7                       JetBlue Airways      3578393\n",
       "8      JetBlue Airways||JetBlue Airways      3129646\n",
       "9      Alaska Airlines||Alaska Airlines      1777996"
      ]
     },
     "execution_count": 7,
     "metadata": {},
     "output_type": "execute_result"
    }
   ],
   "source": [
    "top_10_airline = data.groupBy('segmentsAirlineName').agg(count('*').alias('tol_tickets')).orderBy('tol_tickets', ascending=False).limit(10)\n",
    "top_10_airline = top_10_airline.toPandas()\n",
    "\n",
    "top_10_airline.head(10)"
   ]
  },
  {
   "cell_type": "markdown",
   "id": "50f5d312-7947-4e21-98c9-dd9b9ca63846",
   "metadata": {
    "id": "50f5d312-7947-4e21-98c9-dd9b9ca63846"
   },
   "source": [
    "### Visualization of top 10 airlines"
   ]
  },
  {
   "cell_type": "code",
   "execution_count": null,
   "id": "623b7b94-4554-46e3-ae3b-752d555db494",
   "metadata": {
    "id": "623b7b94-4554-46e3-ae3b-752d555db494",
    "outputId": "e24471be-9e25-4cc7-8a0c-b8f503f687cd"
   },
   "outputs": [
    {
     "data": {
      "image/png": "[encoded data removed]",
      "text/plain": [
       "<Figure size 640x480 with 1 Axes>"
      ]
     },
     "metadata": {},
     "output_type": "display_data"
    }
   ],
   "source": [
    "plt.bar(top_10_airline['segmentsAirlineName'], top_10_airline['tol_tickets'])\n",
    "plt.title('Top 10 Airlines by numer of tickets sold')\n",
    "plt.xticks(rotation=90)\n",
    "plt.xlabel('Airline Name')\n",
    "plt.ylabel('Number of Tickets')\n",
    "plt.show()"
   ]
  },
  {
   "cell_type": "markdown",
   "id": "4b4e0028-4e62-4f02-8ec7-2da483d61184",
   "metadata": {
    "id": "4b4e0028-4e62-4f02-8ec7-2da483d61184"
   },
   "source": [
    "We can see that **American Airlines** takes the lead followed by **United** and then **Delta**."
   ]
  },
  {
   "cell_type": "markdown",
   "id": "96936999-d3b4-4f9e-8e1d-34686cdfef22",
   "metadata": {
    "id": "96936999-d3b4-4f9e-8e1d-34686cdfef22"
   },
   "source": [
    "### Refund situation for different airlines"
   ]
  },
  {
   "cell_type": "code",
   "execution_count": null,
   "id": "a86e2538-ae6e-49f3-832f-e61511f1789c",
   "metadata": {
    "id": "a86e2538-ae6e-49f3-832f-e61511f1789c",
    "outputId": "7a8d9bb2-8423-49fe-ad7d-eb49196c77e3"
   },
   "outputs": [
    {
     "name": "stderr",
     "output_type": "stream",
     "text": [
      "                                                                                \r"
     ]
    },
    {
     "data": {
      "text/html": [
       "<div>\n",
       "<style scoped>\n",
       "    .dataframe tbody tr th:only-of-type {\n",
       "        vertical-align: middle;\n",
       "    }\n",
       "\n",
       "    .dataframe tbody tr th {\n",
       "        vertical-align: top;\n",
       "    }\n",
       "\n",
       "    .dataframe thead th {\n",
       "        text-align: right;\n",
       "    }\n",
       "</style>\n",
       "<table border=\"1\" class=\"dataframe\">\n",
       "  <thead>\n",
       "    <tr style=\"text-align: right;\">\n",
       "      <th></th>\n",
       "      <th>segmentsAirlineName</th>\n",
       "      <th>tol_tickets</th>\n",
       "      <th>refundable_tickets</th>\n",
       "      <th>refundable_percentage</th>\n",
       "    </tr>\n",
       "  </thead>\n",
       "  <tbody>\n",
       "    <tr>\n",
       "      <th>0</th>\n",
       "      <td>American Airlines||JetBlue Airways</td>\n",
       "      <td>388</td>\n",
       "      <td>388</td>\n",
       "      <td>100.00</td>\n",
       "    </tr>\n",
       "    <tr>\n",
       "      <th>1</th>\n",
       "      <td>JetBlue Airways||American Airlines</td>\n",
       "      <td>13</td>\n",
       "      <td>13</td>\n",
       "      <td>100.00</td>\n",
       "    </tr>\n",
       "    <tr>\n",
       "      <th>2</th>\n",
       "      <td>Key Lime Air||Key Lime Air</td>\n",
       "      <td>11532</td>\n",
       "      <td>905</td>\n",
       "      <td>7.85</td>\n",
       "    </tr>\n",
       "    <tr>\n",
       "      <th>3</th>\n",
       "      <td>American Airlines||Key Lime Air||Key Lime Air</td>\n",
       "      <td>17087</td>\n",
       "      <td>26</td>\n",
       "      <td>0.15</td>\n",
       "    </tr>\n",
       "  </tbody>\n",
       "</table>\n",
       "</div>"
      ],
      "text/plain": [
       "                             segmentsAirlineName  tol_tickets  \\\n",
       "0             American Airlines||JetBlue Airways          388   \n",
       "1             JetBlue Airways||American Airlines           13   \n",
       "2                     Key Lime Air||Key Lime Air        11532   \n",
       "3  American Airlines||Key Lime Air||Key Lime Air        17087   \n",
       "\n",
       "   refundable_tickets  refundable_percentage  \n",
       "0                 388                 100.00  \n",
       "1                  13                 100.00  \n",
       "2                 905                   7.85  \n",
       "3                  26                   0.15  "
      ]
     },
     "execution_count": 17,
     "metadata": {},
     "output_type": "execute_result"
    },
    {
     "name": "stderr",
     "output_type": "stream",
     "text": [
      "Exception in thread \"serve-DataFrame\" java.net.SocketTimeoutException: Accept timed out\n",
      "\tat java.base/java.net.PlainSocketImpl.socketAccept(Native Method)\n",
      "\tat java.base/java.net.AbstractPlainSocketImpl.accept(AbstractPlainSocketImpl.java:474)\n",
      "\tat java.base/java.net.ServerSocket.implAccept(ServerSocket.java:565)\n",
      "\tat java.base/java.net.ServerSocket.accept(ServerSocket.java:533)\n",
      "\tat org.apache.spark.security.SocketAuthServer$$anon$1.run(SocketAuthServer.scala:64)\n"
     ]
    }
   ],
   "source": [
    "from pyspark.sql.functions import sum, round, when\n",
    "\n",
    "df2 = data.withColumn(\"refundable_or_not\", when(data[\"isRefundable\"] == True, 1).otherwise(0))\n",
    "airline_refund= df2.groupBy('segmentsAirlineName').agg(count('*').alias('tol_tickets'), sum(df2['refundable_or_not']).alias('refundable_tickets')) \\\n",
    "                      .where(col('refundable_tickets') > 0)\n",
    "airline_refund = airline_refund.withColumn('refundable_percentage', round((col('refundable_tickets') / col('tol_tickets') * 100), 2)) \\\n",
    "                      .orderBy('refundable_percentage', ascending=False)\n",
    "\n",
    "airline_refund = airline_refund.toPandas()\n",
    "airline_refund.head()"
   ]
  },
  {
   "cell_type": "markdown",
   "id": "5bcdfb53-05af-4828-b24d-d24ff07c85fc",
   "metadata": {
    "id": "5bcdfb53-05af-4828-b24d-d24ff07c85fc"
   },
   "source": [
    "There are four segments:\n",
    "\n",
    "* American Airlines||JetBlue Airways\n",
    "\n",
    "* JetBlue Airways||American Airlines\n",
    "\n",
    "* Key Lime Air||Key Lime Air\n",
    "\n",
    "* American Airlines||Key Lime Air||Key Lime Air\n",
    "\n",
    "For the first two segments, all tickets that were purchased were refundable, with 100% refundable percentage. For the third segment, there were 11,532 total tickets purchased, out of which 905 tickets were refundable, resulting in a refundable percentage of 7.85%. For the fourth segment, there were 17,087 total tickets purchased, from which only 26 tickets were refundable which caused a very low refundable percentage of 0.15%.  "
   ]
  },
  {
   "cell_type": "markdown",
   "id": "f64e22eb-975a-43fc-b958-4540b6199f16",
   "metadata": {
    "id": "f64e22eb-975a-43fc-b958-4540b6199f16"
   },
   "source": [
    "### Refund situation for basic economy airline and non-basic economy airline"
   ]
  },
  {
   "cell_type": "code",
   "execution_count": null,
   "id": "af155bf9-8687-4978-939b-6238acbd3d61",
   "metadata": {
    "id": "af155bf9-8687-4978-939b-6238acbd3d61",
    "outputId": "52c4fbbe-8ef1-4fb2-a44a-872b77932f7a"
   },
   "outputs": [
    {
     "name": "stderr",
     "output_type": "stream",
     "text": [
      "[Stage 54:=====================================================>(230 + 2) / 232]\r"
     ]
    },
    {
     "name": "stdout",
     "output_type": "stream",
     "text": [
      "+--------------+-----------+------------------+---------------------+\n",
      "|isBasicEconomy|tol_tickets|refundable_tickets|refundable_percentage|\n",
      "+--------------+-----------+------------------+---------------------+\n",
      "|         false|   70313487|              1332|              0.00189|\n",
      "|          true|   11825266|                 0|                  0.0|\n",
      "+--------------+-----------+------------------+---------------------+\n",
      "\n",
      "None\n"
     ]
    },
    {
     "name": "stderr",
     "output_type": "stream",
     "text": [
      "                                                                                \r"
     ]
    }
   ],
   "source": [
    "airline_type_refund = df2.groupBy('isBasicEconomy').agg(count('*').alias('tol_tickets'),sum(df2['refundable_or_not']).alias('refundable_tickets'))\n",
    "airline_type_refund = airline_type_refund.withColumn('refundable_percentage', round((col('refundable_tickets') / col('tol_tickets') * 100), 5)) \\\n",
    "                                               .orderBy('refundable_percentage', ascending=False)\n",
    "\n",
    "print(airline_type_refund.show())"
   ]
  },
  {
   "cell_type": "markdown",
   "id": "fdde1f86-b358-424c-84c0-e4b921919ada",
   "metadata": {
    "id": "fdde1f86-b358-424c-84c0-e4b921919ada"
   },
   "source": [
    "This table shows the total number of tickets purchased for basic economy and non-basic economy fares, as well as the number of refundable tickets and the percentage of refundable tickets for each fare type.\n",
    "\n",
    "As seen in the table, more than 70 million tickets purchased were for fares other than basic economy. In comparison, a little over 11 million tickets were of basic economy fare type. A mere fraction of non-basic economy tickets amounting to only around 0.00189% could be refunded while refunds weren't available for any of the basic economy ticket holders."
   ]
  },
  {
   "cell_type": "markdown",
   "id": "672c146d-2d93-46ab-9904-aaaed9a38e57",
   "metadata": {
    "id": "672c146d-2d93-46ab-9904-aaaed9a38e57",
    "tags": []
   },
   "source": [
    "## D. Price"
   ]
  },
  {
   "cell_type": "code",
   "execution_count": null,
   "id": "8dc8eb92-55ea-4e00-b847-88d5b5cf44b6",
   "metadata": {
    "id": "8dc8eb92-55ea-4e00-b847-88d5b5cf44b6",
    "outputId": "2eba5aaa-82c8-4bff-b458-6e596e66c16c"
   },
   "outputs": [
    {
     "name": "stderr",
     "output_type": "stream",
     "text": [
      "[Stage 10:=====================================================>(231 + 1) / 232]\r"
     ]
    },
    {
     "name": "stdout",
     "output_type": "stream",
     "text": [
      "+--------------+--------------+\n",
      "|min(totalFare)|max(totalFare)|\n",
      "+--------------+--------------+\n",
      "|         19.59|       8260.61|\n",
      "+--------------+--------------+\n",
      "\n"
     ]
    },
    {
     "name": "stderr",
     "output_type": "stream",
     "text": [
      "                                                                                \r"
     ]
    }
   ],
   "source": [
    "data.selectExpr(\"min(totalFare)\", \"max(totalFare)\").show()"
   ]
  },
  {
   "cell_type": "markdown",
   "id": "45e685f5-c0f1-43fa-9f2b-0c756ad5acbf",
   "metadata": {
    "id": "45e685f5-c0f1-43fa-9f2b-0c756ad5acbf"
   },
   "source": [
    "The above table displays the minimum and maximum total fare values in the dataset, which range from 19.59 dollars  to  8260.61 dollars."
   ]
  },
  {
   "cell_type": "code",
   "execution_count": null,
   "id": "175143bc-6939-4759-a723-c52c24b40fe3",
   "metadata": {
    "id": "175143bc-6939-4759-a723-c52c24b40fe3",
    "outputId": "626e269c-f834-490d-f376-c52b5cb1a5c5"
   },
   "outputs": [
    {
     "name": "stderr",
     "output_type": "stream",
     "text": [
      "                                                                                \r"
     ]
    }
   ],
   "source": [
    "%matplotlib inline\n",
    "num_airline = data.groupBy(\"segmentsAirlineName\").avg(\"totalFare\")\n",
    "df = num_airline.toPandas()\n",
    "df = df.set_index('segmentsAirlineName')"
   ]
  },
  {
   "cell_type": "code",
   "execution_count": null,
   "id": "94722664-67d6-411f-ac37-e681722bed35",
   "metadata": {
    "id": "94722664-67d6-411f-ac37-e681722bed35",
    "outputId": "bc8dc19a-f4ca-49a2-d555-9b82de124fbb"
   },
   "outputs": [
    {
     "data": {
      "image/png": "[encoded data removed]",
      "text/plain": [
       "<Figure size 500x500 with 1 Axes>"
      ]
     },
     "metadata": {},
     "output_type": "display_data"
    },
    {
     "name": "stderr",
     "output_type": "stream",
     "text": [
      "[Stage 5:===========>                                            (46 + 4) / 232]\r"
     ]
    }
   ],
   "source": [
    "#for_graph = data.toPandas()\n",
    "sns.displot(df['avg(totalFare)'])\n",
    "plt.show()"
   ]
  },
  {
   "cell_type": "markdown",
   "id": "06ba5be6-4dda-45b0-8408-1199ee134749",
   "metadata": {
    "id": "06ba5be6-4dda-45b0-8408-1199ee134749"
   },
   "source": [
    "From the above graph, we can see that most plane ticket prices are below 1,000 dollars for a United States domestic flight. Where there are some flights charge customers around 2,000 dollars and some charge about 3,400 dollars."
   ]
  },
  {
   "cell_type": "code",
   "execution_count": null,
   "id": "54d32d60-36af-4586-9638-05ed1bcd6a0b",
   "metadata": {
    "id": "54d32d60-36af-4586-9638-05ed1bcd6a0b",
    "outputId": "4eaf58e2-dd9f-4f72-d566-169036cad1f6"
   },
   "outputs": [
    {
     "data": {
      "text/html": [
       "<div>\n",
       "<style scoped>\n",
       "    .dataframe tbody tr th:only-of-type {\n",
       "        vertical-align: middle;\n",
       "    }\n",
       "\n",
       "    .dataframe tbody tr th {\n",
       "        vertical-align: top;\n",
       "    }\n",
       "\n",
       "    .dataframe thead th {\n",
       "        text-align: right;\n",
       "    }\n",
       "</style>\n",
       "<table border=\"1\" class=\"dataframe\">\n",
       "  <thead>\n",
       "    <tr style=\"text-align: right;\">\n",
       "      <th></th>\n",
       "      <th>avg(totalFare)</th>\n",
       "    </tr>\n",
       "    <tr>\n",
       "      <th>segmentsAirlineName</th>\n",
       "      <th></th>\n",
       "    </tr>\n",
       "  </thead>\n",
       "  <tbody>\n",
       "    <tr>\n",
       "      <th>JetBlue Airways||American Airlines</th>\n",
       "      <td>3431.598462</td>\n",
       "    </tr>\n",
       "    <tr>\n",
       "      <th>American Airlines||JetBlue Airways</th>\n",
       "      <td>3429.437655</td>\n",
       "    </tr>\n",
       "    <tr>\n",
       "      <th>United||Cape Air||Cape Air||Alaska Airlines</th>\n",
       "      <td>2047.551944</td>\n",
       "    </tr>\n",
       "    <tr>\n",
       "      <th>Cape Air||Delta||Delta</th>\n",
       "      <td>1934.000000</td>\n",
       "    </tr>\n",
       "    <tr>\n",
       "      <th>Cape Air||Cape Air||Alaska Airlines</th>\n",
       "      <td>1795.670000</td>\n",
       "    </tr>\n",
       "    <tr>\n",
       "      <th>Cape Air||Cape Air||Cape Air||Delta</th>\n",
       "      <td>915.386117</td>\n",
       "    </tr>\n",
       "    <tr>\n",
       "      <th>Cape Air||Cape Air||Cape Air||JetBlue Airways</th>\n",
       "      <td>906.900000</td>\n",
       "    </tr>\n",
       "    <tr>\n",
       "      <th>Delta||United||Cape Air</th>\n",
       "      <td>906.010000</td>\n",
       "    </tr>\n",
       "    <tr>\n",
       "      <th>Delta||United||United||Delta</th>\n",
       "      <td>902.343562</td>\n",
       "    </tr>\n",
       "    <tr>\n",
       "      <th>Hawaiian Airlines||United||United</th>\n",
       "      <td>881.312222</td>\n",
       "    </tr>\n",
       "  </tbody>\n",
       "</table>\n",
       "</div>"
      ],
      "text/plain": [
       "                                               avg(totalFare)\n",
       "segmentsAirlineName                                          \n",
       "JetBlue Airways||American Airlines                3431.598462\n",
       "American Airlines||JetBlue Airways                3429.437655\n",
       "United||Cape Air||Cape Air||Alaska Airlines       2047.551944\n",
       "Cape Air||Delta||Delta                            1934.000000\n",
       "Cape Air||Cape Air||Alaska Airlines               1795.670000\n",
       "Cape Air||Cape Air||Cape Air||Delta                915.386117\n",
       "Cape Air||Cape Air||Cape Air||JetBlue Airways      906.900000\n",
       "Delta||United||Cape Air                            906.010000\n",
       "Delta||United||United||Delta                       902.343562\n",
       "Hawaiian Airlines||United||United                  881.312222"
      ]
     },
     "execution_count": 12,
     "metadata": {},
     "output_type": "execute_result"
    }
   ],
   "source": [
    "df = df.sort_values(by=['avg(totalFare)'], ascending=False)\n",
    "df.head(10)"
   ]
  },
  {
   "cell_type": "markdown",
   "id": "fd911f97-5015-46d5-9ab8-fae5b5924cea",
   "metadata": {
    "id": "fd911f97-5015-46d5-9ab8-fae5b5924cea"
   },
   "source": [
    "The above table shows the average total fare for different combinations of Airlines.\n",
    "* The highest average fare is for the combination of **JetBlue Airways and American Airlines**, with an average of **3431.598462**.\n",
    "* The combination of **American Airlines and JetBlue Airways** has a similar average fare of **3429.437655**.\n",
    "* The third highest average fare is for the combination of **United, Cape Air, Cape Air, and Alaska Airlines**, with an average of **2047.551944**.\n",
    "* The lowest average fare is for the combination of **Cape Air, Cape Air, and Cape Air, and Delta**, with an average of **915.386117**.\n",
    "\n",
    "Other combinations include Delta, United, Cape Air, Hawaiian Airlines, and Alaska Airlines"
   ]
  },
  {
   "cell_type": "code",
   "execution_count": null,
   "id": "c0e044d4-33b2-478b-bfb8-9aab8ac7c8c9",
   "metadata": {
    "id": "c0e044d4-33b2-478b-bfb8-9aab8ac7c8c9",
    "outputId": "7052272a-820f-4128-9eee-70e9b3d0457c"
   },
   "outputs": [
    {
     "name": "stderr",
     "output_type": "stream",
     "text": [
      "                                                                                \r"
     ]
    }
   ],
   "source": [
    "num_airline = data.groupBy(\"flightDate\").avg(\"totalFare\")\n",
    "df = num_airline.toPandas()\n",
    "df = df.set_index('flightDate')\n",
    "df = df.sort_values(by=['avg(totalFare)'], ascending=False)"
   ]
  },
  {
   "cell_type": "code",
   "execution_count": null,
   "id": "6f9e3d11-594c-49eb-992a-9f3496ce2f8e",
   "metadata": {
    "id": "6f9e3d11-594c-49eb-992a-9f3496ce2f8e",
    "outputId": "3a8b720f-8496-43df-a87f-62b500c6c1dc"
   },
   "outputs": [
    {
     "data": {
      "text/html": [
       "<div>\n",
       "<style scoped>\n",
       "    .dataframe tbody tr th:only-of-type {\n",
       "        vertical-align: middle;\n",
       "    }\n",
       "\n",
       "    .dataframe tbody tr th {\n",
       "        vertical-align: top;\n",
       "    }\n",
       "\n",
       "    .dataframe thead th {\n",
       "        text-align: right;\n",
       "    }\n",
       "</style>\n",
       "<table border=\"1\" class=\"dataframe\">\n",
       "  <thead>\n",
       "    <tr style=\"text-align: right;\">\n",
       "      <th></th>\n",
       "      <th>avg(totalFare)</th>\n",
       "    </tr>\n",
       "    <tr>\n",
       "      <th>flightDate</th>\n",
       "      <th></th>\n",
       "    </tr>\n",
       "  </thead>\n",
       "  <tbody>\n",
       "    <tr>\n",
       "      <th>2022-04-24</th>\n",
       "      <td>524.246711</td>\n",
       "    </tr>\n",
       "    <tr>\n",
       "      <th>2022-06-26</th>\n",
       "      <td>485.382266</td>\n",
       "    </tr>\n",
       "    <tr>\n",
       "      <th>2022-06-12</th>\n",
       "      <td>480.520908</td>\n",
       "    </tr>\n",
       "    <tr>\n",
       "      <th>2022-05-15</th>\n",
       "      <td>475.938415</td>\n",
       "    </tr>\n",
       "    <tr>\n",
       "      <th>2022-05-22</th>\n",
       "      <td>467.165279</td>\n",
       "    </tr>\n",
       "    <tr>\n",
       "      <th>2022-07-01</th>\n",
       "      <td>460.841785</td>\n",
       "    </tr>\n",
       "    <tr>\n",
       "      <th>2022-06-19</th>\n",
       "      <td>457.104280</td>\n",
       "    </tr>\n",
       "    <tr>\n",
       "      <th>2022-06-05</th>\n",
       "      <td>453.164056</td>\n",
       "    </tr>\n",
       "    <tr>\n",
       "      <th>2022-07-17</th>\n",
       "      <td>448.814123</td>\n",
       "    </tr>\n",
       "    <tr>\n",
       "      <th>2022-07-10</th>\n",
       "      <td>444.209536</td>\n",
       "    </tr>\n",
       "  </tbody>\n",
       "</table>\n",
       "</div>"
      ],
      "text/plain": [
       "            avg(totalFare)\n",
       "flightDate                \n",
       "2022-04-24      524.246711\n",
       "2022-06-26      485.382266\n",
       "2022-06-12      480.520908\n",
       "2022-05-15      475.938415\n",
       "2022-05-22      467.165279\n",
       "2022-07-01      460.841785\n",
       "2022-06-19      457.104280\n",
       "2022-06-05      453.164056\n",
       "2022-07-17      448.814123\n",
       "2022-07-10      444.209536"
      ]
     },
     "execution_count": 14,
     "metadata": {},
     "output_type": "execute_result"
    }
   ],
   "source": [
    "df.head(10)"
   ]
  },
  {
   "cell_type": "markdown",
   "id": "cdbd6568-6863-4c41-b336-4d347f80f598",
   "metadata": {
    "id": "cdbd6568-6863-4c41-b336-4d347f80f598"
   },
   "source": [
    "The data provided above depicts the average total fare for distinct flight dates. Based on the given information, **April 24th's** flight has recorded as having the highest rate totaling to around **524.246711**, while **July 10th’s** travel expenditure is noted at a nominal expense amounting to nearly **444.209536** only- which makes it have less than most other flights’ traveling expenses so far revealed in this report presently.The conclusion that one can formulate from analysing these facts and figures suggests that throughout June and July months’, airplane tickets are generally expensive, however during springtime such as May and especially earlier month starting April onwards till mid-May or later they are reasonably inexpensive with almost no increase!"
   ]
  },
  {
   "cell_type": "markdown",
   "id": "THDzxWz-kNkQ",
   "metadata": {
    "id": "THDzxWz-kNkQ"
   },
   "source": [
    "# Brief Summary & Future Studies\n",
    "\n",
    "From our insights we can see that:\n",
    "* The top departure airports are LGA, BOS, DFW, SFO, and LAX.\n",
    "* The top destination airports are LGA, BOS, DFW, ORD, and LAX\n",
    "* The months of July, August, September have the highest number of flights.\n",
    "* American Airlines || American Airlines is the most popular Airline according to the number tickets sold.\n",
    "* The highest average fare is for the combination of JetBlue and American Airlines.\n",
    "\n",
    "\n",
    "There are several directions in which this project could be extended in the future some ideas being:\n",
    "\n",
    "**Incorporating customer data:** In this project, we are focused on the relationship between flight prices and objective variables such as departure date and airline. But, there may be other subjective factors that influence a customer's decision to book a flight, such as brand loyalty or personal preferences. \n",
    "\n",
    "**Expanding the time frame:** Our project focuses on flight prices between 04/16/2022 and 10/05/2022. However, analyzing flight prices over a longer time frame could reveal seasonal trends or long-term patterns that are not visible in our current dataset.\n",
    "\n",
    "\n",
    "\n",
    "\n"
   ]
  }
 ],
 "metadata": {
  "colab": {
   "provenance": []
  },
  "kernelspec": {
   "display_name": "Python 3 (ipykernel)",
   "language": "python",
   "name": "python3"
  },
  "language_info": {
   "codemirror_mode": {
    "name": "ipython",
    "version": 3
   },
   "file_extension": ".py",
   "mimetype": "text/x-python",
   "name": "python",
   "nbconvert_exporter": "python",
   "pygments_lexer": "ipython3",
   "version": "3.9.13"
  }
 },
 "nbformat": 4,
 "nbformat_minor": 5
}
